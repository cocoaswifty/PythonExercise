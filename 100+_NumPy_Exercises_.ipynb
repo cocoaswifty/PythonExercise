{
  "nbformat": 4,
  "nbformat_minor": 0,
  "metadata": {
    "colab": {
      "name": "100+ NumPy Exercises .ipynb",
      "provenance": [],
      "collapsed_sections": [],
      "authorship_tag": "ABX9TyOpFojLUlG9MtqNTr3gecFa",
      "include_colab_link": true
    },
    "kernelspec": {
      "display_name": "Python 3",
      "name": "python3"
    },
    "language_info": {
      "name": "python"
    }
  },
  "cells": [
    {
      "cell_type": "markdown",
      "metadata": {
        "id": "view-in-github",
        "colab_type": "text"
      },
      "source": [
        "<a href=\"https://colab.research.google.com/github/cocoaswifty/PythonExercise/blob/master/100%2B_NumPy_Exercises_.ipynb\" target=\"_parent\"><img src=\"https://colab.research.google.com/assets/colab-badge.svg\" alt=\"Open In Colab\"/></a>"
      ]
    },
    {
      "cell_type": "code",
      "metadata": {
        "id": "Mrol8v5QC0Ym"
      },
      "source": [
        "import numpy as np"
      ],
      "execution_count": 80,
      "outputs": []
    },
    {
      "cell_type": "code",
      "metadata": {
        "colab": {
          "base_uri": "https://localhost:8080/"
        },
        "id": "vPikuyLVMhv5",
        "outputId": "da5733c3-a3e6-4346-b9d1-032925cbd385"
      },
      "source": [
        "A = np.array([[3, 2, 1, 4],\n",
        "              [5, 2, 1, 6]])\n",
        " \n",
        "B = np.array([[3, 2, 1, 4],\n",
        "              [5, 2, 0, 6]])\n",
        " \n",
        "C = np.array([[True, False, False],\n",
        "              [True, True, True]])\n",
        " \n",
        "D = np.array([0.1, 0.3])\n",
        " \n",
        "for name, array in zip(list('ABCD'), [A, B, C, D]):\n",
        "    print(f'{name}: {np.all(array)}')"
      ],
      "execution_count": 81,
      "outputs": [
        {
          "output_type": "stream",
          "text": [
            "A: True\n",
            "B: False\n",
            "C: False\n",
            "D: True\n"
          ],
          "name": "stdout"
        }
      ]
    },
    {
      "cell_type": "code",
      "metadata": {
        "colab": {
          "base_uri": "https://localhost:8080/"
        },
        "id": "x7riDTyeMhrf",
        "outputId": "d8ff67be-8d51-4fb6-8d25-51036ff33e67"
      },
      "source": [
        "A = np.array([[3, 2, 1, 4],\n",
        "              [5, 2, 1, 6]])\n",
        " \n",
        "B = np.array([[3, 2, 1, 4],\n",
        "              [5, 2, 0, 6]])\n",
        " \n",
        "C = np.array([[True, False, False],\n",
        "              [True, True, True]])\n",
        " \n",
        "for name, array in zip(list('ABC'), [A, B, C]):\n",
        "    print(f'{name}: {np.all(array, axis=1)}')"
      ],
      "execution_count": 82,
      "outputs": [
        {
          "output_type": "stream",
          "text": [
            "A: [ True  True]\n",
            "B: [ True False]\n",
            "C: [False  True]\n"
          ],
          "name": "stdout"
        }
      ]
    },
    {
      "cell_type": "code",
      "metadata": {
        "colab": {
          "base_uri": "https://localhost:8080/"
        },
        "id": "mIeBu0DfMhmn",
        "outputId": "f58bf50f-269f-4cec-8d38-5fddc01c534a"
      },
      "source": [
        "A = np.array([[0, 0, 0],\n",
        "              [0, 0, 0]])\n",
        " \n",
        "B = np.array([[0, 0, 0],\n",
        "              [0, 1, 0]])\n",
        " \n",
        "C = np.array([[False, False, False],\n",
        "              [True, False, False]])\n",
        " \n",
        "D = np.array([[0.1, 0.0]])\n",
        " \n",
        "for name, array in zip(list('ABCD'), [A, B, C, D]):\n",
        "    print(f'{name}: {np.any(array)}')"
      ],
      "execution_count": 83,
      "outputs": [
        {
          "output_type": "stream",
          "text": [
            "A: False\n",
            "B: True\n",
            "C: True\n",
            "D: True\n"
          ],
          "name": "stdout"
        }
      ]
    },
    {
      "cell_type": "code",
      "metadata": {
        "colab": {
          "base_uri": "https://localhost:8080/"
        },
        "id": "zs08mF-tMhh9",
        "outputId": "bff0f868-6aea-4f0d-9b00-1a5182f59bdc"
      },
      "source": [
        "A = np.array([[0, 0, 0],\n",
        "              [0, 0, 0]])\n",
        " \n",
        "B = np.array([[0, 0, 0],\n",
        "              [0, 1, 0]])\n",
        " \n",
        "C = np.array([[False, False, False],\n",
        "              [True, False, False]])\n",
        " \n",
        "D = np.array([[0.1, 0.0]])\n",
        " \n",
        "for name, array in zip(list('ABCD'), [A, B, C, D]):\n",
        "    print(f'{name}: {np.any(array, axis=0)}')"
      ],
      "execution_count": 84,
      "outputs": [
        {
          "output_type": "stream",
          "text": [
            "A: [False False False]\n",
            "B: [False  True False]\n",
            "C: [ True False False]\n",
            "D: [ True False]\n"
          ],
          "name": "stdout"
        }
      ]
    },
    {
      "cell_type": "code",
      "metadata": {
        "colab": {
          "base_uri": "https://localhost:8080/"
        },
        "id": "Z_VuPMMeMhVI",
        "outputId": "b508429f-7b99-4b57-eca4-4324fe389344"
      },
      "source": [
        "A = np.array([[3, 2, 1, np.nan],\n",
        "              [5, np.nan, 1, 6]])\n",
        " \n",
        "print(np.isnan(A))"
      ],
      "execution_count": 85,
      "outputs": [
        {
          "output_type": "stream",
          "text": [
            "[[False False False  True]\n",
            " [False  True False False]]\n"
          ],
          "name": "stdout"
        }
      ]
    },
    {
      "cell_type": "code",
      "metadata": {
        "colab": {
          "base_uri": "https://localhost:8080/"
        },
        "id": "IeKZ0g6EMhEn",
        "outputId": "86f4fe21-659b-496e-e2b6-916a9a0b8e58"
      },
      "source": [
        "A = np.array([0.4, 0.5, 0.3])\n",
        "B = np.array([0.39999999, 0.5000001, 0.3])\n",
        " \n",
        "print(np.allclose(A, B))"
      ],
      "execution_count": 86,
      "outputs": [
        {
          "output_type": "stream",
          "text": [
            "True\n"
          ],
          "name": "stdout"
        }
      ]
    },
    {
      "cell_type": "code",
      "metadata": {
        "colab": {
          "base_uri": "https://localhost:8080/"
        },
        "id": "wMllIsnAM12j",
        "outputId": "e5936d7d-6865-47e8-f4dc-4c8b3017c215"
      },
      "source": [
        "\n",
        "A = np.array([0.4, 0.5, 0.3])\n",
        "B = np.array([0.3999999999, 0.5000000001, 0.3])\n",
        " \n",
        "print(A == B)"
      ],
      "execution_count": 87,
      "outputs": [
        {
          "output_type": "stream",
          "text": [
            "[False False  True]\n"
          ],
          "name": "stdout"
        }
      ]
    },
    {
      "cell_type": "code",
      "metadata": {
        "colab": {
          "base_uri": "https://localhost:8080/"
        },
        "id": "XQ-tvcr6M1xc",
        "outputId": "e68ae445-0233-4487-c449-6dac28d8d4ce"
      },
      "source": [
        "\n",
        "A = np.array([0.4, 0.5, 0.3, 0.9])\n",
        "B = np.array([0.38, 0.51, 0.3, 0.91])\n",
        " \n",
        "print(A > B)"
      ],
      "execution_count": 88,
      "outputs": [
        {
          "output_type": "stream",
          "text": [
            "[ True False False False]\n"
          ],
          "name": "stdout"
        }
      ]
    },
    {
      "cell_type": "code",
      "metadata": {
        "colab": {
          "base_uri": "https://localhost:8080/"
        },
        "id": "DOcnGhtlM8vK",
        "outputId": "f8a0f8f3-b599-4910-c58f-426f8fe08ade"
      },
      "source": [
        "print(np.zeros(shape=(4, 4), dtype='int'))"
      ],
      "execution_count": 89,
      "outputs": [
        {
          "output_type": "stream",
          "text": [
            "[[0 0 0 0]\n",
            " [0 0 0 0]\n",
            " [0 0 0 0]\n",
            " [0 0 0 0]]\n"
          ],
          "name": "stdout"
        }
      ]
    },
    {
      "cell_type": "code",
      "metadata": {
        "colab": {
          "base_uri": "https://localhost:8080/"
        },
        "id": "O7bjP-TgM_du",
        "outputId": "8435239b-c447-4cc8-e7d3-c4c1396abdde"
      },
      "source": [
        "\n",
        "print(np.ones(shape=(10, 10), dtype='float') * 255)"
      ],
      "execution_count": 90,
      "outputs": [
        {
          "output_type": "stream",
          "text": [
            "[[255. 255. 255. 255. 255. 255. 255. 255. 255. 255.]\n",
            " [255. 255. 255. 255. 255. 255. 255. 255. 255. 255.]\n",
            " [255. 255. 255. 255. 255. 255. 255. 255. 255. 255.]\n",
            " [255. 255. 255. 255. 255. 255. 255. 255. 255. 255.]\n",
            " [255. 255. 255. 255. 255. 255. 255. 255. 255. 255.]\n",
            " [255. 255. 255. 255. 255. 255. 255. 255. 255. 255.]\n",
            " [255. 255. 255. 255. 255. 255. 255. 255. 255. 255.]\n",
            " [255. 255. 255. 255. 255. 255. 255. 255. 255. 255.]\n",
            " [255. 255. 255. 255. 255. 255. 255. 255. 255. 255.]\n",
            " [255. 255. 255. 255. 255. 255. 255. 255. 255. 255.]]\n"
          ],
          "name": "stdout"
        }
      ]
    },
    {
      "cell_type": "code",
      "metadata": {
        "colab": {
          "base_uri": "https://localhost:8080/"
        },
        "id": "XgKDL-9SNCZX",
        "outputId": "99042e94-9710-4014-b81b-e67ee96c3fe2"
      },
      "source": [
        "\n",
        "print(np.arange(10, 100))"
      ],
      "execution_count": 91,
      "outputs": [
        {
          "output_type": "stream",
          "text": [
            "[10 11 12 13 14 15 16 17 18 19 20 21 22 23 24 25 26 27 28 29 30 31 32 33 34 35 36 37 38 39 40 41 42 43 44 45 46 47 48 49 50 51 52 53 54 55 56 57 58\n",
            " 59 60 61 62 63 64 65 66 67 68 69 70 71 72 73 74 75 76 77 78 79 80 81 82 83 84 85 86 87 88 89 90 91 92 93 94 95 96 97 98 99]\n"
          ],
          "name": "stdout"
        }
      ]
    },
    {
      "cell_type": "code",
      "metadata": {
        "colab": {
          "base_uri": "https://localhost:8080/"
        },
        "id": "EXOsA9FPNE6l",
        "outputId": "e18e0435-5673-4a0b-b1d6-f4923a1d620a"
      },
      "source": [
        "\n",
        "print(np.arange(10, 100).reshape(-1, 10)) "
      ],
      "execution_count": 92,
      "outputs": [
        {
          "output_type": "stream",
          "text": [
            "[[10 11 12 13 14 15 16 17 18 19]\n",
            " [20 21 22 23 24 25 26 27 28 29]\n",
            " [30 31 32 33 34 35 36 37 38 39]\n",
            " [40 41 42 43 44 45 46 47 48 49]\n",
            " [50 51 52 53 54 55 56 57 58 59]\n",
            " [60 61 62 63 64 65 66 67 68 69]\n",
            " [70 71 72 73 74 75 76 77 78 79]\n",
            " [80 81 82 83 84 85 86 87 88 89]\n",
            " [90 91 92 93 94 95 96 97 98 99]]\n"
          ],
          "name": "stdout"
        }
      ]
    },
    {
      "cell_type": "code",
      "metadata": {
        "colab": {
          "base_uri": "https://localhost:8080/"
        },
        "id": "yzhKH676M1sQ",
        "outputId": "ab57f0d7-1e30-4e52-cae7-059010842260"
      },
      "source": [
        "\n",
        "print(np.eye(N=6, dtype='int'))"
      ],
      "execution_count": 93,
      "outputs": [
        {
          "output_type": "stream",
          "text": [
            "[[1 0 0 0 0 0]\n",
            " [0 1 0 0 0 0]\n",
            " [0 0 1 0 0 0]\n",
            " [0 0 0 1 0 0]\n",
            " [0 0 0 0 1 0]\n",
            " [0 0 0 0 0 1]]\n"
          ],
          "name": "stdout"
        }
      ]
    },
    {
      "cell_type": "code",
      "metadata": {
        "colab": {
          "base_uri": "https://localhost:8080/"
        },
        "id": "aLVixRqYM1mT",
        "outputId": "62588bdd-2ddb-4660-ea28-c3ed6dd83955"
      },
      "source": [
        "\n",
        "np.random.seed(10)\n",
        "print(np.random.rand(30))"
      ],
      "execution_count": 94,
      "outputs": [
        {
          "output_type": "stream",
          "text": [
            "[0.77132064 0.02075195 0.63364823 0.74880388 0.49850701 0.22479665 0.19806286 0.76053071 0.16911084 0.08833981 0.68535982 0.95339335 0.00394827\n",
            " 0.51219226 0.81262096 0.61252607 0.72175532 0.29187607 0.91777412 0.71457578 0.54254437 0.14217005 0.37334076 0.67413362 0.44183317 0.43401399\n",
            " 0.61776698 0.51313824 0.65039718 0.60103895]\n"
          ],
          "name": "stdout"
        }
      ]
    },
    {
      "cell_type": "code",
      "metadata": {
        "colab": {
          "base_uri": "https://localhost:8080/"
        },
        "id": "uITiJWjDNLSN",
        "outputId": "790109d7-a9e9-409c-cf6a-4cf6bf3cf818"
      },
      "source": [
        "\n",
        " \n",
        "np.random.seed(20)\n",
        "print(np.random.randn(10, 4))"
      ],
      "execution_count": 95,
      "outputs": [
        {
          "output_type": "stream",
          "text": [
            "[[ 0.88389311  0.19586502  0.35753652 -2.34326191]\n",
            " [-1.08483259  0.55969629  0.93946935 -0.97848104]\n",
            " [ 0.50309684  0.40641447  0.32346101 -0.49341088]\n",
            " [-0.79201679 -0.84236793 -1.27950266  0.24571517]\n",
            " [-0.0441948   1.56763255  1.05110868  0.40636843]\n",
            " [-0.1686461  -3.18970279  1.12013226  1.33277821]\n",
            " [-0.24333877 -0.13003071 -0.10901737  1.55618644]\n",
            " [ 0.12877835 -2.06694872 -0.88549315 -1.10457948]\n",
            " [ 0.93286635  2.059838   -0.93493796 -1.61299022]\n",
            " [ 0.52706972 -1.55110074  0.32961334 -1.13652654]]\n"
          ],
          "name": "stdout"
        }
      ]
    },
    {
      "cell_type": "code",
      "metadata": {
        "colab": {
          "base_uri": "https://localhost:8080/"
        },
        "id": "LR0UId6CM1hE",
        "outputId": "9d8422f7-1d6a-4abb-822e-3454bfeac81b"
      },
      "source": [
        "\n",
        "np.random.seed(30)\n",
        " \n",
        "sigma = np.sqrt(5)\n",
        "mu = 100\n",
        " \n",
        "print(sigma * np.random.randn(10, 4) + mu)"
      ],
      "execution_count": 96,
      "outputs": [
        {
          "output_type": "stream",
          "text": [
            "[[ 97.17349231 103.41650023  97.82942436 101.05220329]\n",
            " [ 99.7748353  100.67930221  96.14063068 103.544381  ]\n",
            " [100.30029631  97.52499594 103.52901961 100.24037271]\n",
            " [ 98.29153712  98.2666258  103.09437633 101.70027274]\n",
            " [ 99.36127721 101.20382627  95.34026547 102.09694365]\n",
            " [ 99.98708001  98.95468525  99.05410904 102.38025432]\n",
            " [ 93.50787269 103.61547679 103.18753701  98.51356237]\n",
            " [102.20256689  96.19764407  97.54000366  97.05813038]\n",
            " [101.81233513  97.66380453  98.45883627  98.09317768]\n",
            " [102.48979932  95.70413391  98.43161651 101.89861815]]\n"
          ],
          "name": "stdout"
        }
      ]
    },
    {
      "cell_type": "code",
      "metadata": {
        "colab": {
          "base_uri": "https://localhost:8080/"
        },
        "id": "XUDhLj75M1cG",
        "outputId": "201f17d7-0e55-47ce-94db-8435a3189199"
      },
      "source": [
        "\n",
        " \n",
        "A = np.array([[1, 4, 3],\n",
        "              [5, 2, 6]])\n",
        " \n",
        "for i in np.nditer(A):\n",
        "    print(i)"
      ],
      "execution_count": 97,
      "outputs": [
        {
          "output_type": "stream",
          "text": [
            "1\n",
            "4\n",
            "3\n",
            "5\n",
            "2\n",
            "6\n"
          ],
          "name": "stdout"
        }
      ]
    },
    {
      "cell_type": "code",
      "metadata": {
        "colab": {
          "base_uri": "https://localhost:8080/"
        },
        "id": "uShtTIRzM1Wb",
        "outputId": "f2dc18b5-2c9f-4f6d-d3f6-ea228137bd89"
      },
      "source": [
        "print(np.linspace(start=0, stop=1, num=11))"
      ],
      "execution_count": 98,
      "outputs": [
        {
          "output_type": "stream",
          "text": [
            "[0.  0.1 0.2 0.3 0.4 0.5 0.6 0.7 0.8 0.9 1. ]\n"
          ],
          "name": "stdout"
        }
      ]
    },
    {
      "cell_type": "code",
      "metadata": {
        "colab": {
          "base_uri": "https://localhost:8080/"
        },
        "id": "QHFd_ZROM1Q3",
        "outputId": "775f465f-7000-42f1-f780-32516afa2568"
      },
      "source": [
        "np.random.seed(42)\n",
        "print(np.random.choice(range(1, 50), size=6, replace=False))"
      ],
      "execution_count": 99,
      "outputs": [
        {
          "output_type": "stream",
          "text": [
            "[14 46 48 45 18 28]\n"
          ],
          "name": "stdout"
        }
      ]
    },
    {
      "cell_type": "code",
      "metadata": {
        "colab": {
          "base_uri": "https://localhost:8080/"
        },
        "id": "HlbM697DM1L5",
        "outputId": "f6ec0d9c-49c6-4b03-e33a-9983722ecd56"
      },
      "source": [
        "\n",
        "print(np.diag(np.arange(6)))"
      ],
      "execution_count": 100,
      "outputs": [
        {
          "output_type": "stream",
          "text": [
            "[[0 0 0 0 0 0]\n",
            " [0 1 0 0 0 0]\n",
            " [0 0 2 0 0 0]\n",
            " [0 0 0 3 0 0]\n",
            " [0 0 0 0 4 0]\n",
            " [0 0 0 0 0 5]]\n"
          ],
          "name": "stdout"
        }
      ]
    },
    {
      "cell_type": "code",
      "metadata": {
        "colab": {
          "base_uri": "https://localhost:8080/"
        },
        "id": "ABD5eOK9M1G9",
        "outputId": "4f3d80f1-7e62-4430-daed-2aa140d6c4bb"
      },
      "source": [
        "\n",
        "A = np.arange(12).reshape(-1, 4)\n",
        "np.save('array.npy', A)\n",
        " \n",
        "B = np.load('array.npy')\n",
        "print(B)"
      ],
      "execution_count": 101,
      "outputs": [
        {
          "output_type": "stream",
          "text": [
            "[[ 0  1  2  3]\n",
            " [ 4  5  6  7]\n",
            " [ 8  9 10 11]]\n"
          ],
          "name": "stdout"
        }
      ]
    },
    {
      "cell_type": "code",
      "metadata": {
        "colab": {
          "base_uri": "https://localhost:8080/"
        },
        "id": "anjAeyU-M1Cu",
        "outputId": "932ccab9-c0a1-4208-d25f-7481958fd0e6"
      },
      "source": [
        "\n",
        "A = np.arange(12, dtype='int').reshape(-1, 4)\n",
        "np.savetxt(fname='array.txt', X=A, fmt='%0.2f')\n",
        " \n",
        "B = np.loadtxt('array.txt')\n",
        "print(B)"
      ],
      "execution_count": 102,
      "outputs": [
        {
          "output_type": "stream",
          "text": [
            "[[ 0.  1.  2.  3.]\n",
            " [ 4.  5.  6.  7.]\n",
            " [ 8.  9. 10. 11.]]\n"
          ],
          "name": "stdout"
        }
      ]
    },
    {
      "cell_type": "code",
      "metadata": {
        "colab": {
          "base_uri": "https://localhost:8080/"
        },
        "id": "2ZXnie5rNbkB",
        "outputId": "89a616ca-c0f5-4b3d-8732-30070f5b2512"
      },
      "source": [
        "\n",
        "A = np.arange(12, dtype='int').reshape(-1, 4)\n",
        "print(A.tolist())"
      ],
      "execution_count": 103,
      "outputs": [
        {
          "output_type": "stream",
          "text": [
            "[[0, 1, 2, 3], [4, 5, 6, 7], [8, 9, 10, 11]]\n"
          ],
          "name": "stdout"
        }
      ]
    },
    {
      "cell_type": "code",
      "metadata": {
        "colab": {
          "base_uri": "https://localhost:8080/"
        },
        "id": "DUBlXhgANbau",
        "outputId": "142af3ef-52e2-4f35-8a08-b50a96c17f30"
      },
      "source": [
        "A = np.arange(12, dtype='int').reshape(-1, 4)\n",
        "print(A[::-1])"
      ],
      "execution_count": 104,
      "outputs": [
        {
          "output_type": "stream",
          "text": [
            "[[ 8  9 10 11]\n",
            " [ 4  5  6  7]\n",
            " [ 0  1  2  3]]\n"
          ],
          "name": "stdout"
        }
      ]
    },
    {
      "cell_type": "code",
      "metadata": {
        "colab": {
          "base_uri": "https://localhost:8080/"
        },
        "id": "SxhmCYvwNbSa",
        "outputId": "53571eae-8c0d-45ec-9e77-63d566c20488"
      },
      "source": [
        "\n",
        "A = np.ones(shape=(4, 4))\n",
        "print(np.pad(A, pad_width=1, constant_values=0))"
      ],
      "execution_count": 105,
      "outputs": [
        {
          "output_type": "stream",
          "text": [
            "[[0. 0. 0. 0. 0. 0.]\n",
            " [0. 1. 1. 1. 1. 0.]\n",
            " [0. 1. 1. 1. 1. 0.]\n",
            " [0. 1. 1. 1. 1. 0.]\n",
            " [0. 1. 1. 1. 1. 0.]\n",
            " [0. 0. 0. 0. 0. 0.]]\n"
          ],
          "name": "stdout"
        }
      ]
    },
    {
      "cell_type": "code",
      "metadata": {
        "colab": {
          "base_uri": "https://localhost:8080/"
        },
        "id": "ZROQFW1DNbJL",
        "outputId": "26a0ecc6-fc5b-4e44-ef25-9ce73baa74e7"
      },
      "source": [
        " \n",
        "A = np.zeros(shape=(6, 6), dtype='int')\n",
        "A[::2, ::2] = 10\n",
        "A[1::2, ::2] = 5\n",
        "print(A)"
      ],
      "execution_count": 106,
      "outputs": [
        {
          "output_type": "stream",
          "text": [
            "[[10  0 10  0 10  0]\n",
            " [ 5  0  5  0  5  0]\n",
            " [10  0 10  0 10  0]\n",
            " [ 5  0  5  0  5  0]\n",
            " [10  0 10  0 10  0]\n",
            " [ 5  0  5  0  5  0]]\n"
          ],
          "name": "stdout"
        }
      ]
    },
    {
      "cell_type": "code",
      "metadata": {
        "colab": {
          "base_uri": "https://localhost:8080/"
        },
        "id": "QkEwf6VINbDC",
        "outputId": "da756025-20b2-4c74-fa8e-d93a28a6b180"
      },
      "source": [
        "\n",
        "A = np.arange(12).reshape(-1, 4)\n",
        "B = np.array([[4, 3, 7, 2],\n",
        "              [0, 5, 2, 6]])\n",
        " \n",
        "print(np.append(A, B, axis=0))"
      ],
      "execution_count": 107,
      "outputs": [
        {
          "output_type": "stream",
          "text": [
            "[[ 0  1  2  3]\n",
            " [ 4  5  6  7]\n",
            " [ 8  9 10 11]\n",
            " [ 4  3  7  2]\n",
            " [ 0  5  2  6]]\n"
          ],
          "name": "stdout"
        }
      ]
    },
    {
      "cell_type": "code",
      "metadata": {
        "colab": {
          "base_uri": "https://localhost:8080/"
        },
        "id": "j5pgwtn2Na9B",
        "outputId": "65961a04-ac3c-4f90-e94c-24a17eb1436b"
      },
      "source": [
        "\n",
        " \n",
        "A = np.arange(8).reshape(-1, 4)\n",
        "B = np.array([[9, 10, 11, 3],\n",
        "              [2, 8, 0, 9]])\n",
        " \n",
        "print(np.intersect1d(A, B))"
      ],
      "execution_count": 108,
      "outputs": [
        {
          "output_type": "stream",
          "text": [
            "[0 2 3]\n"
          ],
          "name": "stdout"
        }
      ]
    },
    {
      "cell_type": "code",
      "metadata": {
        "colab": {
          "base_uri": "https://localhost:8080/"
        },
        "id": "8pXj2sJHNa36",
        "outputId": "519920d5-23b7-4df5-de2a-945cfb79431c"
      },
      "source": [
        "\n",
        "np.random.seed(10)\n",
        "A = np.random.randint(low=1, high=10, size=(3, 5))\n",
        "print(np.unique(A))"
      ],
      "execution_count": 109,
      "outputs": [
        {
          "output_type": "stream",
          "text": [
            "[1 2 4 5 7 9]\n"
          ],
          "name": "stdout"
        }
      ]
    },
    {
      "cell_type": "code",
      "metadata": {
        "colab": {
          "base_uri": "https://localhost:8080/"
        },
        "id": "yy86cLk8NazC",
        "outputId": "38c5912e-836a-4dc5-a4a9-0b38fbf86238"
      },
      "source": [
        "\n",
        "A = np.array([[0.4, 0.3, 0.3],\n",
        "              [0.1, 0.1, 0.8],\n",
        "              [0.2, 0.5, 0.3]])\n",
        " \n",
        "print(np.argmax(A, axis=1))"
      ],
      "execution_count": 110,
      "outputs": [
        {
          "output_type": "stream",
          "text": [
            "[0 2 1]\n"
          ],
          "name": "stdout"
        }
      ]
    },
    {
      "cell_type": "code",
      "metadata": {
        "colab": {
          "base_uri": "https://localhost:8080/"
        },
        "id": "jYfZ8PjqNatt",
        "outputId": "c84a0907-4730-4f43-bf74-f0cc82bae561"
      },
      "source": [
        "\n",
        "A = np.array([[4.99, 3.49, 9.99],\n",
        "              [1.99, 9.99, 4.99],\n",
        "              [14.99, 2.39, 7.29]])\n",
        " \n",
        "print(np.sort(A))\n",
        "print(np.sort(A, axis=0))"
      ],
      "execution_count": 111,
      "outputs": [
        {
          "output_type": "stream",
          "text": [
            "[[ 3.49  4.99  9.99]\n",
            " [ 1.99  4.99  9.99]\n",
            " [ 2.39  7.29 14.99]]\n",
            "[[ 1.99  2.39  4.99]\n",
            " [ 4.99  3.49  7.29]\n",
            " [14.99  9.99  9.99]]\n"
          ],
          "name": "stdout"
        }
      ]
    },
    {
      "cell_type": "code",
      "metadata": {
        "colab": {
          "base_uri": "https://localhost:8080/"
        },
        "id": "4Me1wxLCNaon",
        "outputId": "b410376d-6b7d-4ecb-9951-0ab77e514de1"
      },
      "source": [
        "\n",
        "A = np.array([[4.99, 3.49, 9.99],\n",
        "              [1.99, 9.99, 4.99],\n",
        "              [14.99, 2.39, 7.29]])\n",
        " \n",
        "print(A[A > 8])"
      ],
      "execution_count": 112,
      "outputs": [
        {
          "output_type": "stream",
          "text": [
            "[ 9.99  9.99 14.99]\n"
          ],
          "name": "stdout"
        }
      ]
    },
    {
      "cell_type": "code",
      "metadata": {
        "colab": {
          "base_uri": "https://localhost:8080/"
        },
        "id": "s6VM9AxuNajj",
        "outputId": "57c10942-fa8b-4e4e-85a8-6c3388631447"
      },
      "source": [
        "\n",
        "A = np.array([[4.99, 3.49, 9.99],\n",
        "              [1.99, 9.99, 14.99],\n",
        "              [14.99, 2.39, 7.29]])\n",
        " \n",
        "print(np.where(A > 10.0, 10.0, A))"
      ],
      "execution_count": 113,
      "outputs": [
        {
          "output_type": "stream",
          "text": [
            "[[ 4.99  3.49  9.99]\n",
            " [ 1.99  9.99 10.  ]\n",
            " [10.    2.39  7.29]]\n"
          ],
          "name": "stdout"
        }
      ]
    },
    {
      "cell_type": "code",
      "metadata": {
        "colab": {
          "base_uri": "https://localhost:8080/"
        },
        "id": "ms26EwB9M09p",
        "outputId": "1b020e4f-efaa-4372-ce4b-f23dd0f41349"
      },
      "source": [
        "\n",
        " \n",
        "A = np.array([[4.99, 3.49, 9.99],\n",
        "              [1.99, 9.99, 14.99],\n",
        "              [14.99, 2.39, 7.29]])\n",
        " \n",
        "print(np.ravel(A))"
      ],
      "execution_count": 114,
      "outputs": [
        {
          "output_type": "stream",
          "text": [
            "[ 4.99  3.49  9.99  1.99  9.99 14.99 14.99  2.39  7.29]\n"
          ],
          "name": "stdout"
        }
      ]
    },
    {
      "cell_type": "code",
      "metadata": {
        "colab": {
          "base_uri": "https://localhost:8080/"
        },
        "id": "kYG6kmSnM05d",
        "outputId": "efaf2103-cd39-4840-8abf-60e611d359fb"
      },
      "source": [
        "\n",
        "A = np.array([[4.99, 3.49, 9.99],\n",
        "              [1.99, 9.99, 14.99],\n",
        "              [14.99, 2.39, 7.29]])\n",
        " \n",
        "print(np.zeros_like(A))"
      ],
      "execution_count": 115,
      "outputs": [
        {
          "output_type": "stream",
          "text": [
            "[[0. 0. 0.]\n",
            " [0. 0. 0.]\n",
            " [0. 0. 0.]]\n"
          ],
          "name": "stdout"
        }
      ]
    },
    {
      "cell_type": "code",
      "metadata": {
        "colab": {
          "base_uri": "https://localhost:8080/"
        },
        "id": "cUFSi8nSNyXd",
        "outputId": "1f36bdce-ea80-4288-9510-1ddbb9e56d05"
      },
      "source": [
        "\n",
        "A = np.array([[4.99, 3.49, 9.99],\n",
        "              [1.99, 9.99, 14.99],\n",
        "              [14.99, 2.39, 7.29]])\n",
        " \n",
        "print(np.full_like(A, 9.99))"
      ],
      "execution_count": 116,
      "outputs": [
        {
          "output_type": "stream",
          "text": [
            "[[9.99 9.99 9.99]\n",
            " [9.99 9.99 9.99]\n",
            " [9.99 9.99 9.99]]\n"
          ],
          "name": "stdout"
        }
      ]
    },
    {
      "cell_type": "code",
      "metadata": {
        "colab": {
          "base_uri": "https://localhost:8080/"
        },
        "id": "oNbtjL6CNyQ4",
        "outputId": "e0db7e6a-39b8-4e36-e7f6-0363cf73432c"
      },
      "source": [
        "\n",
        "print(np.tri(N=5))"
      ],
      "execution_count": 117,
      "outputs": [
        {
          "output_type": "stream",
          "text": [
            "[[1. 0. 0. 0. 0.]\n",
            " [1. 1. 0. 0. 0.]\n",
            " [1. 1. 1. 0. 0.]\n",
            " [1. 1. 1. 1. 0.]\n",
            " [1. 1. 1. 1. 1.]]\n"
          ],
          "name": "stdout"
        }
      ]
    },
    {
      "cell_type": "code",
      "metadata": {
        "id": "YCz6OCnINyI_"
      },
      "source": [
        "\n",
        "A = np.array([[[4, 5, 4, 2],\n",
        "               [6, 3, 5, 1],\n",
        "               [5, 2, 1, 2]],\n",
        "              \n",
        "              [[7, 2, 3, 1],\n",
        "               [6, 2, 0, 9],\n",
        "               [0, 1, 9, 1]]])"
      ],
      "execution_count": 118,
      "outputs": []
    },
    {
      "cell_type": "code",
      "metadata": {
        "id": "n9Szz4aeNyAR"
      },
      "source": [
        "\n",
        "image = np.random.randint(low=0, high=256, size=(200, 300), dtype=np.uint8)"
      ],
      "execution_count": 119,
      "outputs": []
    },
    {
      "cell_type": "code",
      "metadata": {
        "id": "Sl4suJG-Nx5B"
      },
      "source": [
        "image = np.random.randint(low=0, high=256, size=(200, 300), dtype=np.uint8)\n",
        "image_sorted = np.sort(image)"
      ],
      "execution_count": 120,
      "outputs": []
    },
    {
      "cell_type": "code",
      "metadata": {
        "colab": {
          "base_uri": "https://localhost:8080/"
        },
        "id": "fbG8XbHoNxvo",
        "outputId": "7b42588b-e16d-4c87-8cb7-7b89274fe145"
      },
      "source": [
        "\n",
        "A = np.array([[4, 2, 1],\n",
        "              [6, 4, 2]])\n",
        " \n",
        "print(np.expand_dims(A, axis=0))"
      ],
      "execution_count": 121,
      "outputs": [
        {
          "output_type": "stream",
          "text": [
            "[[[4 2 1]\n",
            "  [6 4 2]]]\n"
          ],
          "name": "stdout"
        }
      ]
    },
    {
      "cell_type": "code",
      "metadata": {
        "colab": {
          "base_uri": "https://localhost:8080/"
        },
        "id": "HETnzXyENxmi",
        "outputId": "db3c1f0e-ecd4-4543-c0a5-e06d58936c1f"
      },
      "source": [
        "\n",
        "np.random.seed(42)\n",
        " \n",
        "image = np.random.randint(low=0, high=256, size=(200, 300, 3), dtype=np.uint8)\n",
        "print(image)"
      ],
      "execution_count": 122,
      "outputs": [
        {
          "output_type": "stream",
          "text": [
            "[[[102 220 225]\n",
            "  [ 95 179  61]\n",
            "  [234 203  92]\n",
            "  ...\n",
            "  [ 41  27  87]\n",
            "  [102 225  65]\n",
            "  [170   0 238]]\n",
            "\n",
            " [[169 170 213]\n",
            "  [159  44 250]\n",
            "  [224 206  61]\n",
            "  ...\n",
            "  [162 118  77]\n",
            "  [228  67  21]\n",
            "  [ 68  30  64]]\n",
            "\n",
            " [[237  26 118]\n",
            "  [ 62 157 198]\n",
            "  [  1 151  37]\n",
            "  ...\n",
            "  [218 189  51]\n",
            "  [193 250 243]\n",
            "  [235  34 180]]\n",
            "\n",
            " ...\n",
            "\n",
            " [[116 102 228]\n",
            "  [ 29  75  71]\n",
            "  [156 133  53]\n",
            "  ...\n",
            "  [ 93  45  68]\n",
            "  [124 238  76]\n",
            "  [184 185 202]]\n",
            "\n",
            " [[216 202 116]\n",
            "  [146 168 132]\n",
            "  [236  80  45]\n",
            "  ...\n",
            "  [169 145 212]\n",
            "  [123  50  70]\n",
            "  [ 11  43  62]]\n",
            "\n",
            " [[ 32  52  65]\n",
            "  [155   2  86]\n",
            "  [ 83 240  27]\n",
            "  ...\n",
            "  [ 30  57 175]\n",
            "  [ 72  83 171]\n",
            "  [ 40 114 195]]]\n"
          ],
          "name": "stdout"
        }
      ]
    },
    {
      "cell_type": "code",
      "metadata": {
        "id": "G_xogHYcNxf2"
      },
      "source": [
        "\n",
        "image = np.random.randint(low=0, high=256, size=(200, 300, 3), dtype=np.uint8)\n",
        "image_expanded = np.expand_dims(image, axis=0)"
      ],
      "execution_count": 123,
      "outputs": []
    },
    {
      "cell_type": "code",
      "metadata": {
        "id": "gKW5vJ3INxaX"
      },
      "source": [
        "\n",
        "image1 = np.random.randint(low=0, high=256, size=(200, 300, 3), dtype=np.uint8)\n",
        "image2 = np.random.randint(low=0, high=256, size=(200, 300, 3), dtype=np.uint8)\n",
        " \n",
        "image1 = np.expand_dims(image1, axis=0)\n",
        "image2 = np.expand_dims(image2, axis=0)\n",
        " \n",
        "images = np.append(image1, image2, axis=0)"
      ],
      "execution_count": 124,
      "outputs": []
    },
    {
      "cell_type": "code",
      "metadata": {
        "colab": {
          "base_uri": "https://localhost:8080/"
        },
        "id": "1S53cC8ONxVD",
        "outputId": "784ad4bf-5776-48fb-8aee-8b9369f29d19"
      },
      "source": [
        " \n",
        "A = np.array([[[1, 2, 3],\n",
        "               [6, 3, 2]]])\n",
        " \n",
        "print(np.squeeze(A))"
      ],
      "execution_count": 125,
      "outputs": [
        {
          "output_type": "stream",
          "text": [
            "[[1 2 3]\n",
            " [6 3 2]]\n"
          ],
          "name": "stdout"
        }
      ]
    },
    {
      "cell_type": "code",
      "metadata": {
        "colab": {
          "base_uri": "https://localhost:8080/"
        },
        "id": "Qy8OpqqpNxPt",
        "outputId": "b8236f00-d4e1-45cf-ff61-b255891d2f08"
      },
      "source": [
        "\n",
        "A = np.array([[0.4],\n",
        "              [0.9],\n",
        "              [0.5],\n",
        "              [0.6]])\n",
        " \n",
        "print(np.squeeze(A))"
      ],
      "execution_count": 126,
      "outputs": [
        {
          "output_type": "stream",
          "text": [
            "[0.4 0.9 0.5 0.6]\n"
          ],
          "name": "stdout"
        }
      ]
    },
    {
      "cell_type": "code",
      "metadata": {
        "colab": {
          "base_uri": "https://localhost:8080/"
        },
        "id": "CtxqJM2ZNxKF",
        "outputId": "ec3a4861-1f36-4bb1-e22f-a4cf4c4b271d"
      },
      "source": [
        "\n",
        "A = np.arange(12, dtype='int').reshape(-1, 4)\n",
        "print(A[:, ::-1])"
      ],
      "execution_count": 127,
      "outputs": [
        {
          "output_type": "stream",
          "text": [
            "[[ 3  2  1  0]\n",
            " [ 7  6  5  4]\n",
            " [11 10  9  8]]\n"
          ],
          "name": "stdout"
        }
      ]
    },
    {
      "cell_type": "code",
      "metadata": {
        "colab": {
          "base_uri": "https://localhost:8080/"
        },
        "id": "nvk8eILRNxFK",
        "outputId": "c3cedea2-7928-4212-a6e7-da6eac3ae924"
      },
      "source": [
        "\n",
        "A = np.arange(12, dtype='int').reshape(-1, 4)\n",
        "print(A[::-1, ::-1])"
      ],
      "execution_count": 128,
      "outputs": [
        {
          "output_type": "stream",
          "text": [
            "[[11 10  9  8]\n",
            " [ 7  6  5  4]\n",
            " [ 3  2  1  0]]\n"
          ],
          "name": "stdout"
        }
      ]
    },
    {
      "cell_type": "code",
      "metadata": {
        "colab": {
          "base_uri": "https://localhost:8080/"
        },
        "id": "-UIYEjduNw_r",
        "outputId": "c6daf4d5-6c21-4b1b-a04c-b9aa679e5dfe"
      },
      "source": [
        "\n",
        "np.random.seed(42)\n",
        " \n",
        "image = np.random.randint(low=0, high=256, size=(10, 10, 3), dtype=np.uint8)\n",
        "print(image[:, :, 0])"
      ],
      "execution_count": 129,
      "outputs": [
        {
          "output_type": "stream",
          "text": [
            "[[102  95 234   3  14  46  99 212 188 153]\n",
            " [203 214 121 114 239 244  74  14 145 184]\n",
            " [116  85 226 235 151 181 160   6  52  14]\n",
            " [ 76 233 235 213  68 219 129   0 140 147]\n",
            " [ 20  46  19 209  57 156  86  24 235 110]\n",
            " [231 254 218 134 162  73 169  35 242 253]\n",
            " [187 249 201 231 189 116  49  74 189 158]\n",
            " [ 29   7  54 131 181 123 248 119 228  13]\n",
            " [ 50 155  40 120  72 115 167  85 131 242]\n",
            " [ 52 169  13 144 243 167   8  77  22  10]]\n"
          ],
          "name": "stdout"
        }
      ]
    },
    {
      "cell_type": "code",
      "metadata": {
        "id": "CisljTaXNw5-"
      },
      "source": [
        "\n",
        "image = np.random.randint(low=0, high=256, size=(10, 10, 3), dtype=np.uint8)\n",
        "result = image[:5, :5, :]"
      ],
      "execution_count": 130,
      "outputs": []
    },
    {
      "cell_type": "code",
      "metadata": {
        "colab": {
          "base_uri": "https://localhost:8080/"
        },
        "id": "MevDgkrMNw1a",
        "outputId": "dbf935e7-9de2-45b5-9284-dc4d4131cb34"
      },
      "source": [
        "\n",
        "A = np.array([[3, 4, 5],\n",
        "              [8, 3, 1]])\n",
        "B = np.array([[0, 5, 2],\n",
        "              [4, 2, 1]])\n",
        " \n",
        "print(np.concatenate((A, B), axis=0))"
      ],
      "execution_count": 131,
      "outputs": [
        {
          "output_type": "stream",
          "text": [
            "[[3 4 5]\n",
            " [8 3 1]\n",
            " [0 5 2]\n",
            " [4 2 1]]\n"
          ],
          "name": "stdout"
        }
      ]
    },
    {
      "cell_type": "code",
      "metadata": {
        "colab": {
          "base_uri": "https://localhost:8080/"
        },
        "id": "S2ndUh3MOSOC",
        "outputId": "a70dd430-2246-49f0-a9bb-5f4ce5fe1590"
      },
      "source": [
        "\n",
        "data = np.array([[4.3, 4.2],\n",
        "                 [3.1, 3.6]])\n",
        "target = np.array([[0],\n",
        "                   [1]])\n",
        " \n",
        "print(np.concatenate((data, target), axis=1))"
      ],
      "execution_count": 132,
      "outputs": [
        {
          "output_type": "stream",
          "text": [
            "[[4.3 4.2 0. ]\n",
            " [3.1 3.6 1. ]]\n"
          ],
          "name": "stdout"
        }
      ]
    },
    {
      "cell_type": "code",
      "metadata": {
        "colab": {
          "base_uri": "https://localhost:8080/"
        },
        "id": "Isac2AlBOSHF",
        "outputId": "150d74af-51ca-4cf7-99f3-dd6c6d74052d"
      },
      "source": [
        " \n",
        "feature1 = np.array([1.6, 0.9, 2.2])\n",
        "feature2 = np.array([0.4, 1.3, 3.2])\n",
        "feature3 = np.array([1.4, 0.3, 1.2])\n",
        " \n",
        "print(np.column_stack((feature1, feature2, feature3)))"
      ],
      "execution_count": 133,
      "outputs": [
        {
          "output_type": "stream",
          "text": [
            "[[1.6 0.4 1.4]\n",
            " [0.9 1.3 0.3]\n",
            " [2.2 3.2 1.2]]\n"
          ],
          "name": "stdout"
        }
      ]
    },
    {
      "cell_type": "code",
      "metadata": {
        "colab": {
          "base_uri": "https://localhost:8080/"
        },
        "id": "2voT3J_WOSBi",
        "outputId": "a36871b9-c5a1-48d5-e0c8-7159bd858e4c"
      },
      "source": [
        "\n",
        "np.random.seed(42)\n",
        " \n",
        "A = np.random.randint(low=0, high=7, size=(5, 8))\n",
        "A[:, :2] = 0\n",
        "A[:, -2:] = 1\n",
        " \n",
        "A1, A2, A3 = np.split(A, [2, 6], axis=1)\n",
        "print(A1)\n",
        "print(A2)\n",
        "print(A3)"
      ],
      "execution_count": 134,
      "outputs": [
        {
          "output_type": "stream",
          "text": [
            "[[0 0]\n",
            " [0 0]\n",
            " [0 0]\n",
            " [0 0]\n",
            " [0 0]]\n",
            "[[4 6 2 4]\n",
            " [6 2 2 4]\n",
            " [1 3 5 5]\n",
            " [3 1 5 4]\n",
            " [2 6 1 3]]\n",
            "[[1 1]\n",
            " [1 1]\n",
            " [1 1]\n",
            " [1 1]\n",
            " [1 1]]\n"
          ],
          "name": "stdout"
        }
      ]
    },
    {
      "cell_type": "code",
      "metadata": {
        "colab": {
          "base_uri": "https://localhost:8080/"
        },
        "id": "c9khNTgFOR5r",
        "outputId": "3864a71a-5f5c-4d3d-fcc8-84f96f23611a"
      },
      "source": [
        " \n",
        "np.random.seed(42)\n",
        " \n",
        " \n",
        "A = np.random.randint(low=0, high=2, size=(10, 6))\n",
        " \n",
        "print(np.count_nonzero(A))"
      ],
      "execution_count": 135,
      "outputs": [
        {
          "output_type": "stream",
          "text": [
            "31\n"
          ],
          "name": "stdout"
        }
      ]
    },
    {
      "cell_type": "code",
      "metadata": {
        "colab": {
          "base_uri": "https://localhost:8080/"
        },
        "id": "a2r5voaBORx2",
        "outputId": "13e9084f-4998-43aa-b290-f318b0ad41bb"
      },
      "source": [
        "\n",
        "np.random.seed(42)\n",
        " \n",
        "A = np.random.randn(10, 4)\n",
        " \n",
        "np.set_printoptions(precision=4)\n",
        "print(A)"
      ],
      "execution_count": 136,
      "outputs": [
        {
          "output_type": "stream",
          "text": [
            "[[ 0.4967 -0.1383  0.6477  1.523 ]\n",
            " [-0.2342 -0.2341  1.5792  0.7674]\n",
            " [-0.4695  0.5426 -0.4634 -0.4657]\n",
            " [ 0.242  -1.9133 -1.7249 -0.5623]\n",
            " [-1.0128  0.3142 -0.908  -1.4123]\n",
            " [ 1.4656 -0.2258  0.0675 -1.4247]\n",
            " [-0.5444  0.1109 -1.151   0.3757]\n",
            " [-0.6006 -0.2917 -0.6017  1.8523]\n",
            " [-0.0135 -1.0577  0.8225 -1.2208]\n",
            " [ 0.2089 -1.9597 -1.3282  0.1969]]\n"
          ],
          "name": "stdout"
        }
      ]
    },
    {
      "cell_type": "code",
      "metadata": {
        "colab": {
          "base_uri": "https://localhost:8080/"
        },
        "id": "vVeVMifCORmw",
        "outputId": "bab8eed6-15ff-46ee-d649-d76e73ea37ac"
      },
      "source": [
        "\n",
        "A = np.array([1.2e-6, 1.7e-7])\n",
        " \n",
        "np.set_printoptions(suppress=True, precision=8)\n",
        "print(A)"
      ],
      "execution_count": 137,
      "outputs": [
        {
          "output_type": "stream",
          "text": [
            "[0.0000012  0.00000017]\n"
          ],
          "name": "stdout"
        }
      ]
    },
    {
      "cell_type": "code",
      "metadata": {
        "colab": {
          "base_uri": "https://localhost:8080/"
        },
        "id": "rJOypE33ORfw",
        "outputId": "ded9a67b-a84e-4640-b473-faaa1d2fb32e"
      },
      "source": [
        "\n",
        "np.random.seed(42)\n",
        " \n",
        "A = np.random.randn(8, 4)\n",
        "print(np.delete(A, [2], axis=1))"
      ],
      "execution_count": 138,
      "outputs": [
        {
          "output_type": "stream",
          "text": [
            "[[ 0.49671415 -0.1382643   1.52302986]\n",
            " [-0.23415337 -0.23413696  0.76743473]\n",
            " [-0.46947439  0.54256004 -0.46572975]\n",
            " [ 0.24196227 -1.91328024 -0.56228753]\n",
            " [-1.01283112  0.31424733 -1.4123037 ]\n",
            " [ 1.46564877 -0.2257763  -1.42474819]\n",
            " [-0.54438272  0.11092259  0.37569802]\n",
            " [-0.60063869 -0.29169375  1.85227818]]\n"
          ],
          "name": "stdout"
        }
      ]
    },
    {
      "cell_type": "code",
      "metadata": {
        "colab": {
          "base_uri": "https://localhost:8080/"
        },
        "id": "Y1WC18MfORWI",
        "outputId": "834484b2-e782-4991-80d9-6087b1708b72"
      },
      "source": [
        "\n",
        "v = np.array([3, 4, -2])\n",
        "print(np.linalg.norm(v))"
      ],
      "execution_count": 139,
      "outputs": [
        {
          "output_type": "stream",
          "text": [
            "5.385164807134504\n"
          ],
          "name": "stdout"
        }
      ]
    },
    {
      "cell_type": "code",
      "metadata": {
        "colab": {
          "base_uri": "https://localhost:8080/"
        },
        "id": "KZUihEXRORO6",
        "outputId": "777f3a03-83de-461a-d5f3-1f37b68d6ed2"
      },
      "source": [
        "\n",
        "np.random.seed(42)\n",
        "A = np.random.randint(10, size=(100, 30))\n",
        " \n",
        "np.set_printoptions(edgeitems=10)\n",
        "print(A)"
      ],
      "execution_count": 140,
      "outputs": [
        {
          "output_type": "stream",
          "text": [
            "[[6 3 7 4 6 9 2 6 7 4 ... 4 0 9 5 8 0 9 2 6 3]\n",
            " [8 2 4 2 6 4 8 6 1 3 ... 2 0 3 1 7 3 1 5 5 9]\n",
            " [3 5 1 9 1 9 3 7 6 8 ... 6 8 7 0 7 7 2 0 7 2]\n",
            " [2 0 4 9 6 9 8 6 8 7 ... 0 2 4 2 0 4 9 6 6 8]\n",
            " [9 9 2 6 0 3 3 4 6 6 ... 9 6 8 6 0 0 8 8 3 8]\n",
            " [2 6 5 7 8 4 0 2 9 7 ... 2 0 4 0 7 0 0 1 1 5]\n",
            " [6 4 0 0 2 1 4 9 5 6 ... 5 0 8 5 2 3 3 2 9 2]\n",
            " [2 3 6 3 8 0 7 6 1 7 ... 3 0 1 0 4 4 6 8 8 2]\n",
            " [2 2 3 7 5 7 0 7 3 0 ... 1 1 5 2 8 3 0 3 0 4]\n",
            " [3 7 7 6 2 0 0 2 5 6 ... 4 2 3 2 0 0 4 5 2 8]\n",
            " ...\n",
            " [6 4 8 2 0 3 8 3 1 9 ... 8 4 7 1 5 2 9 4 7 9]\n",
            " [0 4 2 3 1 8 2 1 9 8 ... 7 7 6 5 8 3 0 7 6 6]\n",
            " [2 3 9 8 5 4 2 8 4 4 ... 6 1 7 5 3 4 7 2 2 3]\n",
            " [0 8 7 7 9 5 6 5 8 2 ... 2 3 7 5 4 3 7 0 8 0]\n",
            " [7 3 8 4 2 8 8 3 3 7 ... 4 4 3 4 2 0 4 8 8 3]\n",
            " [2 0 1 7 0 7 6 7 5 8 ... 2 3 6 6 3 5 2 5 1 7]\n",
            " [1 6 8 0 7 6 5 5 5 8 ... 2 7 2 3 7 0 5 0 0 7]\n",
            " [3 0 9 6 4 4 0 9 5 8 ... 6 8 6 2 0 7 2 7 7 4]\n",
            " [0 9 6 9 4 7 8 6 6 0 ... 7 3 0 0 9 2 8 6 1 8]\n",
            " [9 1 2 9 1 2 5 8 8 6 ... 8 2 0 6 9 4 4 0 8 6]]\n"
          ],
          "name": "stdout"
        }
      ]
    },
    {
      "cell_type": "code",
      "metadata": {
        "colab": {
          "base_uri": "https://localhost:8080/"
        },
        "id": "pB5PQyCOORHF",
        "outputId": "7884a249-a4e7-41e7-d1f6-92130065af66"
      },
      "source": [
        " \n",
        "A = np.array([[3, 4, 9, 2],\n",
        "              [5, 3, 2, 5]])\n",
        "B = np.array([[4, 3, 2, 5],\n",
        "              [6, 3, 1, 6]])\n",
        " \n",
        "print((A + B) / 2)"
      ],
      "execution_count": 141,
      "outputs": [
        {
          "output_type": "stream",
          "text": [
            "[[3.5 3.5 5.5 3.5]\n",
            " [5.5 3.  1.5 5.5]]\n"
          ],
          "name": "stdout"
        }
      ]
    },
    {
      "cell_type": "code",
      "metadata": {
        "colab": {
          "base_uri": "https://localhost:8080/"
        },
        "id": "TVga3cVJORBV",
        "outputId": "13b0f75c-419a-42e5-b808-354e870b4943"
      },
      "source": [
        "A = np.array([[3, 4, 9, 2],\n",
        "              [5, 3, 2, 5]])\n",
        "B = np.array([[4, 3, 2, 5],\n",
        "              [6, 3, 1, 6]])\n",
        " \n",
        "print(A * B)\n"
      ],
      "execution_count": 142,
      "outputs": [
        {
          "output_type": "stream",
          "text": [
            "[[12 12 18 10]\n",
            " [30  9  2 30]]\n"
          ],
          "name": "stdout"
        }
      ]
    },
    {
      "cell_type": "code",
      "metadata": {
        "colab": {
          "base_uri": "https://localhost:8080/"
        },
        "id": "Fw5PfhJxOQ7Z",
        "outputId": "9762bf83-f571-40f1-b423-ad3f73e3dd53"
      },
      "source": [
        "A = np.array([[3, 4, 9, 2],\n",
        "              [5, 3, 2, 5]])\n",
        " \n",
        "print(np.sqrt(A))"
      ],
      "execution_count": 143,
      "outputs": [
        {
          "output_type": "stream",
          "text": [
            "[[1.73205081 2.         3.         1.41421356]\n",
            " [2.23606798 1.73205081 1.41421356 2.23606798]]\n"
          ],
          "name": "stdout"
        }
      ]
    },
    {
      "cell_type": "code",
      "metadata": {
        "colab": {
          "base_uri": "https://localhost:8080/"
        },
        "id": "X1o7WyiJOQ0s",
        "outputId": "0bc03131-0d3b-42c0-d0e8-3a23234bf0cf"
      },
      "source": [
        " \n",
        "A = np.linspace(0, np.pi / 2, 20)\n",
        "B = np.full(shape=(20,), fill_value=1, dtype='float')\n",
        " \n",
        "print(np.allclose(np.sin(A) ** 2 + np.cos(A) ** 2, B))"
      ],
      "execution_count": 144,
      "outputs": [
        {
          "output_type": "stream",
          "text": [
            "True\n"
          ],
          "name": "stdout"
        }
      ]
    },
    {
      "cell_type": "code",
      "metadata": {
        "colab": {
          "base_uri": "https://localhost:8080/"
        },
        "id": "AQm423K3OQtC",
        "outputId": "6cb7c526-9171-4448-e07a-3a479d35a812"
      },
      "source": [
        " \n",
        "A = np.array([[2, 3],\n",
        "              [-4, 2],\n",
        "              [5, 0]])\n",
        "B = np.array([[4, 3, 2],\n",
        "              [-1, 0, 2]])\n",
        " \n",
        "print(np.dot(A, B))"
      ],
      "execution_count": 145,
      "outputs": [
        {
          "output_type": "stream",
          "text": [
            "[[  5   6  10]\n",
            " [-18 -12  -4]\n",
            " [ 20  15  10]]\n"
          ],
          "name": "stdout"
        }
      ]
    },
    {
      "cell_type": "code",
      "metadata": {
        "colab": {
          "base_uri": "https://localhost:8080/"
        },
        "id": "XzffFMZPOQn0",
        "outputId": "24d45d76-403e-4df3-8489-400a508d0243"
      },
      "source": [
        "A = np.array([[-2, 0, 4],\n",
        "              [5, 2, -1],\n",
        "              [-4, 2, 4]])\n",
        " \n",
        "print(np.linalg.det(A))"
      ],
      "execution_count": 146,
      "outputs": [
        {
          "output_type": "stream",
          "text": [
            "51.999999999999986\n"
          ],
          "name": "stdout"
        }
      ]
    },
    {
      "cell_type": "code",
      "metadata": {
        "colab": {
          "base_uri": "https://localhost:8080/"
        },
        "id": "w3DW3cLhOQir",
        "outputId": "cd017638-df03-4b30-caff-37762a9fe3e4"
      },
      "source": [
        "A = np.array([[5, 8, 16],\n",
        "              [4, 1, 8],\n",
        "              [-4, 4, -11]])\n",
        " \n",
        "eigenvalues, eigenvectors = np.linalg.eig(A)\n",
        "print(eigenvalues)\n",
        "print(eigenvectors)"
      ],
      "execution_count": 147,
      "outputs": [
        {
          "output_type": "stream",
          "text": [
            "[-9.24621125 -3.          7.24621125]\n",
            "[[-0.62616472 -0.89442719  0.89015941]\n",
            " [-0.31308236  0.          0.4450797 ]\n",
            " [ 0.71407086  0.4472136  -0.09757197]]\n"
          ],
          "name": "stdout"
        }
      ]
    },
    {
      "cell_type": "code",
      "metadata": {
        "colab": {
          "base_uri": "https://localhost:8080/"
        },
        "id": "znQU5ElXOQdX",
        "outputId": "33bf546e-e5c9-4600-e4d4-c3beb80d2bfb"
      },
      "source": [
        "A = np.array([[5, 8, 16],\n",
        "              [4, 1, 8],\n",
        "              [-4, 4, -11]])\n",
        " \n",
        "print(np.linalg.inv(A))"
      ],
      "execution_count": 148,
      "outputs": [
        {
          "output_type": "stream",
          "text": [
            "[[-0.21393035  0.75621891  0.23880597]\n",
            " [ 0.05970149  0.04477612  0.11940299]\n",
            " [ 0.09950249 -0.25870647 -0.13432836]]\n"
          ],
          "name": "stdout"
        }
      ]
    },
    {
      "cell_type": "code",
      "metadata": {
        "colab": {
          "base_uri": "https://localhost:8080/"
        },
        "id": "ep-PG4NKOQXO",
        "outputId": "b99913c5-905a-4724-da4d-14b93adfb601"
      },
      "source": [
        "A = np.array([[5, 8, 16],\n",
        "              [4, 1, 8],\n",
        "              [-4, 4, -11]])\n",
        " \n",
        "print(np.trace(A))"
      ],
      "execution_count": 149,
      "outputs": [
        {
          "output_type": "stream",
          "text": [
            "-5\n"
          ],
          "name": "stdout"
        }
      ]
    },
    {
      "cell_type": "code",
      "metadata": {
        "colab": {
          "base_uri": "https://localhost:8080/"
        },
        "id": "oYqcT38qOQP3",
        "outputId": "857d6fc9-2957-420a-de7a-527cee28309b"
      },
      "source": [
        "A = np.array([[2, 0],\n",
        "              [4, 2],\n",
        "              [5, 3],\n",
        "              [4, 2]])\n",
        "B = np.array([[4, 0, 2, 1, 1, 0, 2, 9]])\n",
        "print(np.dot(A, B.reshape(2, -1)))"
      ],
      "execution_count": 150,
      "outputs": [
        {
          "output_type": "stream",
          "text": [
            "[[ 8  0  4  2]\n",
            " [18  0 12 22]\n",
            " [23  0 16 32]\n",
            " [18  0 12 22]]\n"
          ],
          "name": "stdout"
        }
      ]
    },
    {
      "cell_type": "code",
      "metadata": {
        "colab": {
          "base_uri": "https://localhost:8080/"
        },
        "id": "2WNFx8d_O0PF",
        "outputId": "af45f61d-5ff8-4bcc-d060-33832b6b6366"
      },
      "source": [
        "np.random.seed(42)\n",
        " \n",
        "A = np.array([['id', 'price'],\n",
        "              ['001', 14.99],\n",
        "              ['002', 4.99],\n",
        "              ['003', 7.99],\n",
        "              ['004', 2.49],\n",
        "              ['005', 1.49]])\n",
        " \n",
        "np.random.shuffle(A[1:])\n",
        "print(A)"
      ],
      "execution_count": 151,
      "outputs": [
        {
          "output_type": "stream",
          "text": [
            "[['id' 'price']\n",
            " ['002' '4.99']\n",
            " ['005' '1.49']\n",
            " ['003' '7.99']\n",
            " ['001' '14.99']\n",
            " ['004' '2.49']]\n"
          ],
          "name": "stdout"
        }
      ]
    },
    {
      "cell_type": "code",
      "metadata": {
        "colab": {
          "base_uri": "https://localhost:8080/"
        },
        "id": "eSp0nHCbOz_1",
        "outputId": "668bb853-6f81-4909-912b-e404e8e0fe8c"
      },
      "source": [
        "A = np.array([0.2, 0.15, 0.1, 0.3, 0.2, 0.05])\n",
        " \n",
        "print(np.argsort(A))"
      ],
      "execution_count": 152,
      "outputs": [
        {
          "output_type": "stream",
          "text": [
            "[5 2 1 0 4 3]\n"
          ],
          "name": "stdout"
        }
      ]
    },
    {
      "cell_type": "code",
      "metadata": {
        "colab": {
          "base_uri": "https://localhost:8080/"
        },
        "id": "Ftsh9d1_Oz3r",
        "outputId": "905cdaea-02c4-4ba9-be15-69c51f697263"
      },
      "source": [
        "np.random.seed(42)\n",
        "A = np.random.randn(10, 8)\n",
        " \n",
        "print(np.round(A, decimals=3))"
      ],
      "execution_count": 153,
      "outputs": [
        {
          "output_type": "stream",
          "text": [
            "[[ 0.497 -0.138  0.648  1.523 -0.234 -0.234  1.579  0.767]\n",
            " [-0.469  0.543 -0.463 -0.466  0.242 -1.913 -1.725 -0.562]\n",
            " [-1.013  0.314 -0.908 -1.412  1.466 -0.226  0.068 -1.425]\n",
            " [-0.544  0.111 -1.151  0.376 -0.601 -0.292 -0.602  1.852]\n",
            " [-0.013 -1.058  0.823 -1.221  0.209 -1.96  -1.328  0.197]\n",
            " [ 0.738  0.171 -0.116 -0.301 -1.479 -0.72  -0.461  1.057]\n",
            " [ 0.344 -1.763  0.324 -0.385 -0.677  0.612  1.031  0.931]\n",
            " [-0.839 -0.309  0.331  0.976 -0.479 -0.186 -1.106 -1.196]\n",
            " [ 0.813  1.356 -0.072  1.004  0.362 -0.645  0.361  1.538]\n",
            " [-0.036  1.565 -2.62   0.822  0.087 -0.299  0.092 -1.988]]\n"
          ],
          "name": "stdout"
        }
      ]
    },
    {
      "cell_type": "code",
      "metadata": {
        "colab": {
          "base_uri": "https://localhost:8080/"
        },
        "id": "uXmIFuwsOzsw",
        "outputId": "0c940481-44ec-4361-cc50-acfc0759390e"
      },
      "source": [
        "W = np.array([4, 5, 1])\n",
        "print(np.roots(W))"
      ],
      "execution_count": 154,
      "outputs": [
        {
          "output_type": "stream",
          "text": [
            "[-1.   -0.25]\n"
          ],
          "name": "stdout"
        }
      ]
    },
    {
      "cell_type": "code",
      "metadata": {
        "colab": {
          "base_uri": "https://localhost:8080/"
        },
        "id": "A7uFWK5JOzmk",
        "outputId": "4e48a349-f33f-462e-e57f-a32f3779741b"
      },
      "source": [
        "Q = np.array([2, 4, -5, 1])\n",
        "R = np.array([2, 0, -5, 1])\n",
        " \n",
        "print(np.roots(Q))\n",
        "print(np.roots(R))"
      ],
      "execution_count": 155,
      "outputs": [
        {
          "output_type": "stream",
          "text": [
            "[-2.91610583  0.65388685  0.26221898]\n",
            "[-1.67298165  1.46961743  0.20336421]\n"
          ],
          "name": "stdout"
        }
      ]
    },
    {
      "cell_type": "code",
      "metadata": {
        "colab": {
          "base_uri": "https://localhost:8080/"
        },
        "id": "K3cGhX0iOze5",
        "outputId": "911f1ac0-5b20-4d93-fe5c-3c26e4cc2d1c"
      },
      "source": [
        "W = np.array([4, 5, 1])\n",
        "Q = np.array([2, 4, -5, 1])\n",
        " \n",
        "print(np.polyadd(W, Q))\n",
        "print(np.polysub(W, Q))\n",
        "print(np.polymul(W, Q))\n",
        "print(np.polyadd(W, 2 * Q))"
      ],
      "execution_count": 156,
      "outputs": [
        {
          "output_type": "stream",
          "text": [
            "[2 8 0 2]\n",
            "[-2  0 10  0]\n",
            "[  8  26   2 -17   0   1]\n",
            "[ 4 12 -5  3]\n"
          ],
          "name": "stdout"
        }
      ]
    },
    {
      "cell_type": "code",
      "metadata": {
        "colab": {
          "base_uri": "https://localhost:8080/"
        },
        "id": "7vE2XGyROzZm",
        "outputId": "0aa43490-c075-473f-e801-badf45114076"
      },
      "source": [
        "A = np.array([[-4, 3, 0, 1, -5],\n",
        "              [6, -4, -2, 1, 3]])\n",
        " \n",
        "print(np.sign(A))"
      ],
      "execution_count": 157,
      "outputs": [
        {
          "output_type": "stream",
          "text": [
            "[[-1  1  0  1 -1]\n",
            " [ 1 -1 -1  1  1]]\n"
          ],
          "name": "stdout"
        }
      ]
    },
    {
      "cell_type": "code",
      "metadata": {
        "colab": {
          "base_uri": "https://localhost:8080/"
        },
        "id": "se5Dn4ewOzT7",
        "outputId": "0f0e91d2-d5fa-418f-a40a-969d0c55fcd3"
      },
      "source": [
        "print(np.arange('2021-01-01', '2021-02-01', dtype='datetime64[D]'))"
      ],
      "execution_count": 158,
      "outputs": [
        {
          "output_type": "stream",
          "text": [
            "['2021-01-01' '2021-01-02' '2021-01-03' '2021-01-04' '2021-01-05' '2021-01-06' '2021-01-07' '2021-01-08' '2021-01-09' '2021-01-10' '2021-01-11'\n",
            " '2021-01-12' '2021-01-13' '2021-01-14' '2021-01-15' '2021-01-16' '2021-01-17' '2021-01-18' '2021-01-19' '2021-01-20' '2021-01-21' '2021-01-22'\n",
            " '2021-01-23' '2021-01-24' '2021-01-25' '2021-01-26' '2021-01-27' '2021-01-28' '2021-01-29' '2021-01-30' '2021-01-31']\n"
          ],
          "name": "stdout"
        }
      ]
    },
    {
      "cell_type": "code",
      "metadata": {
        "colab": {
          "base_uri": "https://localhost:8080/"
        },
        "id": "jd70FY2BOzO9",
        "outputId": "981493d5-9477-4691-cb29-68a3c5bbaa27"
      },
      "source": [
        "A = np.arange('2021-01', '2022-01', dtype='datetime64[M]')\n",
        "A = A.reshape(-1, 3)\n",
        "print(A)"
      ],
      "execution_count": 159,
      "outputs": [
        {
          "output_type": "stream",
          "text": [
            "[['2021-01' '2021-02' '2021-03']\n",
            " ['2021-04' '2021-05' '2021-06']\n",
            " ['2021-07' '2021-08' '2021-09']\n",
            " ['2021-10' '2021-11' '2021-12']]\n"
          ],
          "name": "stdout"
        }
      ]
    },
    {
      "cell_type": "code",
      "metadata": {
        "colab": {
          "base_uri": "https://localhost:8080/"
        },
        "id": "xiPSenhjOzJX",
        "outputId": "b5fbc5cf-ec26-4f32-c74b-d44bd045a303"
      },
      "source": [
        "\n",
        "print(np.datetime64('today'))"
      ],
      "execution_count": 160,
      "outputs": [
        {
          "output_type": "stream",
          "text": [
            "2021-04-13\n"
          ],
          "name": "stdout"
        }
      ]
    },
    {
      "cell_type": "code",
      "metadata": {
        "colab": {
          "base_uri": "https://localhost:8080/"
        },
        "id": "HoNeTusVM0qs",
        "outputId": "f403935d-35f1-4788-b5c1-3db634327e71"
      },
      "source": [
        "print(np.arange('2020-01-06', '2020-03', dtype='datetime64[D]')[::7])"
      ],
      "execution_count": 161,
      "outputs": [
        {
          "output_type": "stream",
          "text": [
            "['2020-01-06' '2020-01-13' '2020-01-20' '2020-01-27' '2020-02-03' '2020-02-10' '2020-02-17' '2020-02-24']\n"
          ],
          "name": "stdout"
        }
      ]
    },
    {
      "cell_type": "code",
      "metadata": {
        "colab": {
          "base_uri": "https://localhost:8080/"
        },
        "id": "5AEZr9zRM0Vu",
        "outputId": "056cad0a-9f7b-40aa-9e9f-864b5f6bcf21"
      },
      "source": [
        "A = np.array(['001', '002', '003'], dtype=np.str)\n",
        "B = np.array(['XC', 'YC', 'ZC'], dtype=np.str)\n",
        " \n",
        "print(np.char.add(A, B))"
      ],
      "execution_count": 162,
      "outputs": [
        {
          "output_type": "stream",
          "text": [
            "['001XC' '002YC' '003ZC']\n"
          ],
          "name": "stdout"
        }
      ]
    },
    {
      "cell_type": "code",
      "metadata": {
        "colab": {
          "base_uri": "https://localhost:8080/"
        },
        "id": "XdfuhuGGPJwF",
        "outputId": "78c7d823-8989-493d-84de-0f85228c95fa"
      },
      "source": [
        "A = np.array(['1', '2', '3'], dtype=np.str)\n",
        " \n",
        "print(np.char.add('000', A))"
      ],
      "execution_count": 163,
      "outputs": [
        {
          "output_type": "stream",
          "text": [
            "['0001' '0002' '0003']\n"
          ],
          "name": "stdout"
        }
      ]
    },
    {
      "cell_type": "code",
      "metadata": {
        "colab": {
          "base_uri": "https://localhost:8080/"
        },
        "id": "cxy6ThoAPNCD",
        "outputId": "0b2a6689-9b77-4a79-a8ae-65d8016696a6"
      },
      "source": [
        "A = np.array([['PLW CDR 11B TEN', 'AMC LPP'],\n",
        "              ['CDR PKO KGH', 'CCC QMK']], dtype=np.str)\n",
        " \n",
        "print(np.char.split(A))"
      ],
      "execution_count": 164,
      "outputs": [
        {
          "output_type": "stream",
          "text": [
            "[[list(['PLW', 'CDR', '11B', 'TEN']) list(['AMC', 'LPP'])]\n",
            " [list(['CDR', 'PKO', 'KGH']) list(['CCC', 'QMK'])]]\n"
          ],
          "name": "stdout"
        }
      ]
    },
    {
      "cell_type": "code",
      "metadata": {
        "colab": {
          "base_uri": "https://localhost:8080/"
        },
        "id": "DzD6L85GPPSI",
        "outputId": "84220139-f359-4fa0-812b-0eb1ea0d4f40"
      },
      "source": [
        "A = np.array([['#summer#time#mood'],\n",
        "              ['#sport#time']])\n",
        " \n",
        "print(np.char.strip(np.char.replace(A, '#', ' ')))"
      ],
      "execution_count": 165,
      "outputs": [
        {
          "output_type": "stream",
          "text": [
            "[['summer time mood']\n",
            " ['sport time']]\n"
          ],
          "name": "stdout"
        }
      ]
    },
    {
      "cell_type": "code",
      "metadata": {
        "colab": {
          "base_uri": "https://localhost:8080/"
        },
        "id": "lzchCmqnPRR7",
        "outputId": "33b1420f-9650-4fd7-ec6d-1a74cec1c24c"
      },
      "source": [
        "A = np.array([['#summer#time#mood', '#vibe'],\n",
        "              ['#sport#time', '#good#time'],\n",
        "              ['#event#summer', '#fast#move']])\n",
        " \n",
        "print(np.char.count(A, 'time'))"
      ],
      "execution_count": 166,
      "outputs": [
        {
          "output_type": "stream",
          "text": [
            "[[1 0]\n",
            " [1 1]\n",
            " [0 0]]\n"
          ],
          "name": "stdout"
        }
      ]
    },
    {
      "cell_type": "code",
      "metadata": {
        "id": "0RrLkiPYTGEr",
        "colab": {
          "base_uri": "https://localhost:8080/"
        },
        "outputId": "e37c3117-3b78-4956-d26d-da2049aeb1b7"
      },
      "source": [
        "text = \"\"\"ALIOR\tPLALIOR00045\t88 860 000\t1 386 216 000\t0,891\t2,16\t14\n",
        "CCC\tPLCCC0000016\t27 918 000\t1 292 603 400\t0,831\t5,28\t42\n",
        "CDPROJEKT\tPLOPTTC00011\t67 348 000\t22 864 646 000\t14,702\t7,39\t7\n",
        "CYFRPLSAT\tPLCFRPT00013\t275 301 000\t6 854 994 900\t4,408\t1,17\t14\n",
        "DINOPL\tPLDINPL00011\t47 937 000\t8 916 282 000\t5,733\t9,13\t12\n",
        "JSW\tPLJSW0000015\t52 636 000\t716 902 320\t0,461\t1,51\t24\n",
        "KGHM\tPLKGHM000017\t136 410 000\t9 881 540 400\t6,354\t4,78\t8\n",
        "LOTOS\tPLLOTOS00025\t86 543 000\t5 609 717 260\t3,607\t2,91\t16\n",
        "LPP\tPLLPP0000011\t1 306 000\t7 444 200 000\t4,787\t1,43\t19\n",
        "MBANK\tPLBRE0000012\t12 997 000\t2 830 746 600\t1,820\t0,42\t24\n",
        "ORANGEPL\tPLTLKPL00017\t647 357 000\t4 285 503 340\t2,756\t1,16\t13\n",
        "PEKAO\tPLPEKAO00016\t176 379 000\t9 619 710 660\t6,185\t5,27\t9\n",
        "PGE\tPLPGER000010\t796 776 000\t3 561 588 720\t2,290\t2,88\t18\n",
        "PGNIG\tPLPGNIG00014\t1 624 608 000\t6 072 784 704\t3,905\t1,56\t12\n",
        "PKNORLEN\tPLPKN0000018\t289 049 000\t17 701 360 760\t11,382\t12,44\t8\n",
        "PKOBP\tPLPKO0000016\t857 593 000\t18 807 014 490\t12,093\t10,49\t9\n",
        "PLAY\tLU1642887738\t114 151 000\t3 696 209 380\t2,377\t1,47\t16\n",
        "PZU\tPLPZU0000011\t568 305 000\t17 515 160 100\t11,262\t6,64\t6\n",
        "SANPL\tPLBZ00000044\t33 207 000\t5 213 499 000\t3,352\t1,91\t18\n",
        "TAURONPE\tPLTAURN00011\t1 043 590 000\t1 252 308 000\t0,805\t1,21\t33\"\"\"\n",
        " \n",
        "lines = text.splitlines()\n",
        "lines = [line.split('\\t') for line in lines]\n",
        "result = np.array(lines, dtype=np.str)\n",
        "print(result)\n"
      ],
      "execution_count": 167,
      "outputs": [
        {
          "output_type": "stream",
          "text": [
            "[['ALIOR' 'PLALIOR00045' '88 860 000' '1 386 216 000' '0,891' '2,16' '14']\n",
            " ['CCC' 'PLCCC0000016' '27 918 000' '1 292 603 400' '0,831' '5,28' '42']\n",
            " ['CDPROJEKT' 'PLOPTTC00011' '67 348 000' '22 864 646 000' '14,702' '7,39' '7']\n",
            " ['CYFRPLSAT' 'PLCFRPT00013' '275 301 000' '6 854 994 900' '4,408' '1,17' '14']\n",
            " ['DINOPL' 'PLDINPL00011' '47 937 000' '8 916 282 000' '5,733' '9,13' '12']\n",
            " ['JSW' 'PLJSW0000015' '52 636 000' '716 902 320' '0,461' '1,51' '24']\n",
            " ['KGHM' 'PLKGHM000017' '136 410 000' '9 881 540 400' '6,354' '4,78' '8']\n",
            " ['LOTOS' 'PLLOTOS00025' '86 543 000' '5 609 717 260' '3,607' '2,91' '16']\n",
            " ['LPP' 'PLLPP0000011' '1 306 000' '7 444 200 000' '4,787' '1,43' '19']\n",
            " ['MBANK' 'PLBRE0000012' '12 997 000' '2 830 746 600' '1,820' '0,42' '24']\n",
            " ['ORANGEPL' 'PLTLKPL00017' '647 357 000' '4 285 503 340' '2,756' '1,16' '13']\n",
            " ['PEKAO' 'PLPEKAO00016' '176 379 000' '9 619 710 660' '6,185' '5,27' '9']\n",
            " ['PGE' 'PLPGER000010' '796 776 000' '3 561 588 720' '2,290' '2,88' '18']\n",
            " ['PGNIG' 'PLPGNIG00014' '1 624 608 000' '6 072 784 704' '3,905' '1,56' '12']\n",
            " ['PKNORLEN' 'PLPKN0000018' '289 049 000' '17 701 360 760' '11,382' '12,44' '8']\n",
            " ['PKOBP' 'PLPKO0000016' '857 593 000' '18 807 014 490' '12,093' '10,49' '9']\n",
            " ['PLAY' 'LU1642887738' '114 151 000' '3 696 209 380' '2,377' '1,47' '16']\n",
            " ['PZU' 'PLPZU0000011' '568 305 000' '17 515 160 100' '11,262' '6,64' '6']\n",
            " ['SANPL' 'PLBZ00000044' '33 207 000' '5 213 499 000' '3,352' '1,91' '18']\n",
            " ['TAURONPE' 'PLTAURN00011' '1 043 590 000' '1 252 308 000' '0,805' '1,21' '33']]\n"
          ],
          "name": "stdout"
        }
      ]
    },
    {
      "cell_type": "code",
      "metadata": {
        "id": "-AKcWFR4WHkd",
        "colab": {
          "base_uri": "https://localhost:8080/"
        },
        "outputId": "6b1e7861-9bbc-42f1-b18c-1e40fdaf01dd"
      },
      "source": [
        "\n",
        "np.set_printoptions(linewidth=150)\n",
        "result = np.array([['ALIOR', 'PLALIOR00045', '88 860 000', '1 386 216 000', '0,891', '2,16', '14'],\n",
        "       ['CCC', 'PLCCC0000016', '27 918 000', '1 292 603 400', '0,831', '5,28', '42'],\n",
        "       ['CDPROJEKT', 'PLOPTTC00011', '67 348 000', '22 864 646 000', '14,702', '7,39', '7'],\n",
        "       ['CYFRPLSAT', 'PLCFRPT00013', '275 301 000', '6 854 994 900', '4,408', '1,17', '14'],\n",
        "       ['DINOPL', 'PLDINPL00011', '47 937 000', '8 916 282 000', '5,733', '9,13', '12'],\n",
        "       ['JSW', 'PLJSW0000015', '52 636 000', '716 902 320', '0,461', '1,51', '24'],\n",
        "       ['KGHM', 'PLKGHM000017', '136 410 000', '9 881 540 400', '6,354', '4,78', '8'],\n",
        "       ['LOTOS', 'PLLOTOS00025', '86 543 000', '5 609 717 260', '3,607', '2,91', '16'],\n",
        "       ['LPP', 'PLLPP0000011', '1 306 000', '7 444 200 000', '4,787', '1,43', '19'],\n",
        "       ['MBANK', 'PLBRE0000012', '12 997 000', '2 830 746 600', '1,820', '0,42', '24'],\n",
        "       ['ORANGEPL', 'PLTLKPL00017', '647 357 000', '4 285 503 340', '2,756', '1,16', '13'],\n",
        "       ['PEKAO', 'PLPEKAO00016', '176 379 000', '9 619 710 660', '6,185', '5,27', '9'],\n",
        "       ['PGE', 'PLPGER000010', '796 776 000', '3 561 588 720', '2,290', '2,88', '18'],\n",
        "       ['PGNIG', 'PLPGNIG00014', '1 624 608 000', '6 072 784 704', '3,905', '1,56', '12'],\n",
        "       ['PKNORLEN', 'PLPKN0000018', '289 049 000', '17 701 360 760', '11,382', '12,44', '8'],\n",
        "       ['PKOBP', 'PLPKO0000016', '857 593 000', '18 807 014 490', '12,093', '10,49', '9'],\n",
        "       ['PLAY', 'LU1642887738', '114 151 000', '3 696 209 380', '2,377', '1,47', '16'],\n",
        "       ['PZU', 'PLPZU0000011', '568 305 000', '17 515 160 100', '11,262', '6,64', '6'],\n",
        "       ['SANPL', 'PLBZ00000044', '33 207 000', '5 213 499 000', '3,352', '1,91', '18'],\n",
        "       ['TAURONPE', 'PLTAURN00011', '1 043 590 000', '1 252 308 000', '0,805', '1,21', '33']], dtype='<U14')\n",
        " \n",
        "result = np.char.replace(result, ' ', '')\n",
        "result = np.char.replace(result, ',', '.')\n",
        "print(result)"
      ],
      "execution_count": 168,
      "outputs": [
        {
          "output_type": "stream",
          "text": [
            "[['ALIOR' 'PLALIOR00045' '88860000' '1386216000' '0.891' '2.16' '14']\n",
            " ['CCC' 'PLCCC0000016' '27918000' '1292603400' '0.831' '5.28' '42']\n",
            " ['CDPROJEKT' 'PLOPTTC00011' '67348000' '22864646000' '14.702' '7.39' '7']\n",
            " ['CYFRPLSAT' 'PLCFRPT00013' '275301000' '6854994900' '4.408' '1.17' '14']\n",
            " ['DINOPL' 'PLDINPL00011' '47937000' '8916282000' '5.733' '9.13' '12']\n",
            " ['JSW' 'PLJSW0000015' '52636000' '716902320' '0.461' '1.51' '24']\n",
            " ['KGHM' 'PLKGHM000017' '136410000' '9881540400' '6.354' '4.78' '8']\n",
            " ['LOTOS' 'PLLOTOS00025' '86543000' '5609717260' '3.607' '2.91' '16']\n",
            " ['LPP' 'PLLPP0000011' '1306000' '7444200000' '4.787' '1.43' '19']\n",
            " ['MBANK' 'PLBRE0000012' '12997000' '2830746600' '1.820' '0.42' '24']\n",
            " ['ORANGEPL' 'PLTLKPL00017' '647357000' '4285503340' '2.756' '1.16' '13']\n",
            " ['PEKAO' 'PLPEKAO00016' '176379000' '9619710660' '6.185' '5.27' '9']\n",
            " ['PGE' 'PLPGER000010' '796776000' '3561588720' '2.290' '2.88' '18']\n",
            " ['PGNIG' 'PLPGNIG00014' '1624608000' '6072784704' '3.905' '1.56' '12']\n",
            " ['PKNORLEN' 'PLPKN0000018' '289049000' '17701360760' '11.382' '12.44' '8']\n",
            " ['PKOBP' 'PLPKO0000016' '857593000' '18807014490' '12.093' '10.49' '9']\n",
            " ['PLAY' 'LU1642887738' '114151000' '3696209380' '2.377' '1.47' '16']\n",
            " ['PZU' 'PLPZU0000011' '568305000' '17515160100' '11.262' '6.64' '6']\n",
            " ['SANPL' 'PLBZ00000044' '33207000' '5213499000' '3.352' '1.91' '18']\n",
            " ['TAURONPE' 'PLTAURN00011' '1043590000' '1252308000' '0.805' '1.21' '33']]\n"
          ],
          "name": "stdout"
        }
      ]
    },
    {
      "cell_type": "code",
      "metadata": {
        "colab": {
          "base_uri": "https://localhost:8080/"
        },
        "id": "94ZnlInqCvFH",
        "outputId": "c8aaa795-092e-4af5-e8e3-ead9ed0de2a9"
      },
      "source": [
        "\n",
        "np.set_printoptions(linewidth=150)\n",
        "result = np.array([['ALIOR', 'PLALIOR00045', '88860000', '1386216000', '0.891', '2.16', '14'],\n",
        "       ['CCC', 'PLCCC0000016', '27918000', '1292603400', '0.831', '5.28', '42'],\n",
        "       ['CDPROJEKT', 'PLOPTTC00011', '67348000', '22864646000', '14.702', '7.39', '7'],\n",
        "       ['CYFRPLSAT', 'PLCFRPT00013', '275301000', '6854994900', '4.408', '1.17', '14'],\n",
        "       ['DINOPL', 'PLDINPL00011', '47937000', '8916282000', '5.733', '9.13', '12'],\n",
        "       ['JSW', 'PLJSW0000015', '52636000', '716902320', '0.461', '1.51', '24'],\n",
        "       ['KGHM', 'PLKGHM000017', '136410000', '9881540400', '6.354', '4.78', '8'],\n",
        "       ['LOTOS', 'PLLOTOS00025', '86543000', '5609717260', '3.607', '2.91', '16'],\n",
        "       ['LPP', 'PLLPP0000011', '1306000', '7444200000', '4.787', '1.43', '19'],\n",
        "       ['MBANK', 'PLBRE0000012', '12997000', '2830746600', '1.820', '0.42', '24'],\n",
        "       ['ORANGEPL', 'PLTLKPL00017', '647357000', '4285503340', '2.756', '1.16', '13'],\n",
        "       ['PEKAO', 'PLPEKAO00016', '176379000', '9619710660', '6.185', '5.27', '9'],\n",
        "       ['PGE', 'PLPGER000010', '796776000', '3561588720', '2.290', '2.88', '18'],\n",
        "       ['PGNIG', 'PLPGNIG00014', '1624608000', '6072784704', '3.905', '1.56', '12'],\n",
        "       ['PKNORLEN', 'PLPKN0000018', '289049000', '17701360760', '11.382', '12.44', '8'],\n",
        "       ['PKOBP', 'PLPKO0000016', '857593000', '18807014490', '12.093', '10.49', '9'],\n",
        "       ['PLAY', 'LU1642887738', '114151000', '3696209380', '2.377', '1.47', '16'],\n",
        "       ['PZU', 'PLPZU0000011', '568305000', '17515160100', '11.262', '6.64', '6'],\n",
        "       ['SANPL', 'PLBZ00000044', '33207000', '5213499000', '3.352', '1.91', '18'],\n",
        "       ['TAURONPE', 'PLTAURN00011', '1043590000', '1252308000', '0.805', '1.21', '33']], dtype='<U12')\n",
        " \n",
        "stocks_startswith_P = result[np.char.startswith(result[:, 0], 'P')]\n",
        "print(stocks_startswith_P)"
      ],
      "execution_count": 169,
      "outputs": [
        {
          "output_type": "stream",
          "text": [
            "[['PEKAO' 'PLPEKAO00016' '176379000' '9619710660' '6.185' '5.27' '9']\n",
            " ['PGE' 'PLPGER000010' '796776000' '3561588720' '2.290' '2.88' '18']\n",
            " ['PGNIG' 'PLPGNIG00014' '1624608000' '6072784704' '3.905' '1.56' '12']\n",
            " ['PKNORLEN' 'PLPKN0000018' '289049000' '17701360760' '11.382' '12.44' '8']\n",
            " ['PKOBP' 'PLPKO0000016' '857593000' '18807014490' '12.093' '10.49' '9']\n",
            " ['PLAY' 'LU1642887738' '114151000' '3696209380' '2.377' '1.47' '16']\n",
            " ['PZU' 'PLPZU0000011' '568305000' '17515160100' '11.262' '6.64' '6']]\n"
          ],
          "name": "stdout"
        }
      ]
    },
    {
      "cell_type": "code",
      "metadata": {
        "colab": {
          "base_uri": "https://localhost:8080/"
        },
        "id": "Cm5sGZpRDXBC",
        "outputId": "31d13abf-f26b-468f-95dc-424d6fb9a960"
      },
      "source": [
        "np.set_printoptions(linewidth=150)\n",
        "stocks_startswith_P = np.array([['PEKAO', 'PLPEKAO00016', '176379000', '9619710660', '6.185', '5.27', '9'],\n",
        "       ['PGE', 'PLPGER000010', '796776000', '3561588720', '2.290', '2.88', '18'],\n",
        "       ['PGNIG', 'PLPGNIG00014', '1624608000', '6072784704', '3.905', '1.56', '12'],\n",
        "       ['PKNORLEN', 'PLPKN0000018', '289049000', '17701360760', '11.382', '12.44', '8'],\n",
        "       ['PKOBP', 'PLPKO0000016', '857593000', '18807014490', '12.093', '10.49', '9'],\n",
        "       ['PLAY', 'LU1642887738', '114151000', '3696209380', '2.377', '1.47', '16'],\n",
        "       ['PZU', 'PLPZU0000011', '568305000', '17515160100', '11.262', '6.64', '6']], dtype='<U12')\n",
        " \n",
        "print(np.round(stocks_startswith_P[:, 4].astype(float).sum(), 2))"
      ],
      "execution_count": 170,
      "outputs": [
        {
          "output_type": "stream",
          "text": [
            "49.49\n"
          ],
          "name": "stdout"
        }
      ]
    },
    {
      "cell_type": "code",
      "metadata": {
        "colab": {
          "base_uri": "https://localhost:8080/"
        },
        "id": "MLCNG74IDXqW",
        "outputId": "2c699f10-2f99-45fb-ddd0-ccf0432f4ac8"
      },
      "source": [
        "np.set_printoptions(linewidth=160, suppress=True)\n",
        " \n",
        "wig_games_raw = \"\"\"Profile\tTime\tCourse\tChange\tChange%\tRef.\tOpen\tLow\tHigh\tVolume\tTurn\tShare\n",
        "11B (11BIT)\t17 kwi 17:01\t391.00\t+8.00\t(+2.09%)\t383.00\t383.50\t383.00\t394.00\t12 784\t4 994 874\t19.034%\n",
        "CDR (CDPROJEKT)\t17 kwi 17:01\t339.50\t+5.30\t(+1.59%)\t334.20\t338.30\t337.00\t344.20\t233 059\t79 245 368\t39.618%\n",
        "CIG (CIGAMES)\t17 kwi 17:03\t0.742\t-0.012\t(-1.59%)\t0.754\t0.772\t0.730\t0.772\t1 311 078\t971 459\t1.855%\n",
        "PLW (PLAYWAY)\t17 kwi 17:03\t387.50\t+18.00\t(+4.87%)\t369.50\t374.00\t373.00\t388.00\t33 206\t12 661 786\t10.638%\n",
        "TEN (TSGAMES)\t17 kwi 17:02\t349.50\t+22.50\t(+6.88%)\t327.00\t332.00\t330.00\t353.50\t39 793\t13 697 060\t28.855%\"\"\"\n",
        " \n",
        "lines = wig_games_raw.splitlines()\n",
        "lines = [line.split('\\t') for line in lines]\n",
        "wig_games = np.array(lines, dtype=np.str)\n",
        "wig_games = np.char.replace(wig_games, ' ', '')\n",
        "print(wig_games)"
      ],
      "execution_count": 171,
      "outputs": [
        {
          "output_type": "stream",
          "text": [
            "[['Profile' 'Time' 'Course' 'Change' 'Change%' 'Ref.' 'Open' 'Low' 'High' 'Volume' 'Turn' 'Share']\n",
            " ['11B(11BIT)' '17kwi17:01' '391.00' '+8.00' '(+2.09%)' '383.00' '383.50' '383.00' '394.00' '12784' '4994874' '19.034%']\n",
            " ['CDR(CDPROJEKT)' '17kwi17:01' '339.50' '+5.30' '(+1.59%)' '334.20' '338.30' '337.00' '344.20' '233059' '79245368' '39.618%']\n",
            " ['CIG(CIGAMES)' '17kwi17:03' '0.742' '-0.012' '(-1.59%)' '0.754' '0.772' '0.730' '0.772' '1311078' '971459' '1.855%']\n",
            " ['PLW(PLAYWAY)' '17kwi17:03' '387.50' '+18.00' '(+4.87%)' '369.50' '374.00' '373.00' '388.00' '33206' '12661786' '10.638%']\n",
            " ['TEN(TSGAMES)' '17kwi17:02' '349.50' '+22.50' '(+6.88%)' '327.00' '332.00' '330.00' '353.50' '39793' '13697060' '28.855%']]\n"
          ],
          "name": "stdout"
        }
      ]
    },
    {
      "cell_type": "code",
      "metadata": {
        "colab": {
          "base_uri": "https://localhost:8080/"
        },
        "id": "Z4SP6t1TETRG",
        "outputId": "bb82574a-59e0-4cf0-85df-86d2ac781894"
      },
      "source": [
        "np.set_printoptions(linewidth=160, suppress=True)\n",
        " \n",
        "wig_games = np.array([['Profile', 'Time', 'Course', 'Change', 'Change%', 'Ref.', 'Open', 'Low', 'High', 'Volume', 'Turn', 'Share'],\n",
        "       ['11B(11BIT)', '17kwi17:01', '391.00', '+8.00', '(+2.09%)', '383.00', '383.50', '383.00', '394.00', '12784', '4994874', '19.034%'],\n",
        "       ['CDR(CDPROJEKT)', '17kwi17:01', '339.50', '+5.30', '(+1.59%)', '334.20', '338.30', '337.00', '344.20', '233059', '79245368', '39.618%'],\n",
        "       ['CIG(CIGAMES)', '17kwi17:03', '0.742', '-0.012', '(-1.59%)', '0.754', '0.772', '0.730', '0.772', '1311078', '971459', '1.855%'],\n",
        "       ['PLW(PLAYWAY)', '17kwi17:03', '387.50', '+18.00', '(+4.87%)', '369.50', '374.00', '373.00', '388.00', '33206', '12661786', '10.638%'],\n",
        "       ['TEN(TSGAMES)', '17kwi17:02', '349.50', '+22.50', '(+6.88%)', '327.00', '332.00', '330.00', '353.50', '39793', '13697060', '28.855%']], dtype='<U14')\n",
        " \n",
        "wig_games = np.delete(wig_games, [3, 4, 5, 9], axis=1)\n",
        "print(wig_games)"
      ],
      "execution_count": 172,
      "outputs": [
        {
          "output_type": "stream",
          "text": [
            "[['Profile' 'Time' 'Course' 'Open' 'Low' 'High' 'Turn' 'Share']\n",
            " ['11B(11BIT)' '17kwi17:01' '391.00' '383.50' '383.00' '394.00' '4994874' '19.034%']\n",
            " ['CDR(CDPROJEKT)' '17kwi17:01' '339.50' '338.30' '337.00' '344.20' '79245368' '39.618%']\n",
            " ['CIG(CIGAMES)' '17kwi17:03' '0.742' '0.772' '0.730' '0.772' '971459' '1.855%']\n",
            " ['PLW(PLAYWAY)' '17kwi17:03' '387.50' '374.00' '373.00' '388.00' '12661786' '10.638%']\n",
            " ['TEN(TSGAMES)' '17kwi17:02' '349.50' '332.00' '330.00' '353.50' '13697060' '28.855%']]\n"
          ],
          "name": "stdout"
        }
      ]
    },
    {
      "cell_type": "code",
      "metadata": {
        "colab": {
          "base_uri": "https://localhost:8080/"
        },
        "id": "oeOHcAXPE85c",
        "outputId": "cac4593f-fd42-4f8e-fa93-857bdc7c8498"
      },
      "source": [
        "np.set_printoptions(linewidth=160, suppress=True)\n",
        " \n",
        "wig_games = np.array([['Profile', 'Time', 'Course', 'Open', 'Low', 'High', 'Turn', 'Share'],\n",
        "       ['11B(11BIT)', '17kwi17:01', '391.00', '383.50', '383.00', '394.00', '4994874', '19.034%'],\n",
        "       ['CDR(CDPROJEKT)', '17kwi17:01', '339.50', '338.30', '337.00', '344.20', '79245368', '39.618%'],\n",
        "       ['CIG(CIGAMES)', '17kwi17:03', '0.742', '0.772', '0.730', '0.772', '971459', '1.855%'],\n",
        "       ['PLW(PLAYWAY)', '17kwi17:03', '387.50', '374.00', '373.00', '388.00', '12661786', '10.638%'],\n",
        "       ['TEN(TSGAMES)', '17kwi17:02', '349.50', '332.00', '330.00', '353.50', '13697060', '28.855%']], dtype='<U14')\n",
        " \n",
        "np.savetxt(fname='wig_games.csv', X=wig_games, fmt='%s', delimiter=',')\n",
        "wig_games_new = np.loadtxt(fname='wig_games.csv', delimiter=',', dtype=str)\n",
        "print(wig_games_new)"
      ],
      "execution_count": 173,
      "outputs": [
        {
          "output_type": "stream",
          "text": [
            "[['Profile' 'Time' 'Course' 'Open' 'Low' 'High' 'Turn' 'Share']\n",
            " ['11B(11BIT)' '17kwi17:01' '391.00' '383.50' '383.00' '394.00' '4994874' '19.034%']\n",
            " ['CDR(CDPROJEKT)' '17kwi17:01' '339.50' '338.30' '337.00' '344.20' '79245368' '39.618%']\n",
            " ['CIG(CIGAMES)' '17kwi17:03' '0.742' '0.772' '0.730' '0.772' '971459' '1.855%']\n",
            " ['PLW(PLAYWAY)' '17kwi17:03' '387.50' '374.00' '373.00' '388.00' '12661786' '10.638%']\n",
            " ['TEN(TSGAMES)' '17kwi17:02' '349.50' '332.00' '330.00' '353.50' '13697060' '28.855%']]\n"
          ],
          "name": "stdout"
        }
      ]
    },
    {
      "cell_type": "code",
      "metadata": {
        "colab": {
          "base_uri": "https://localhost:8080/"
        },
        "id": "zZX-9KeXFGKl",
        "outputId": "91d418da-8fc2-484a-f2ae-720b6bcdb8b1"
      },
      "source": [
        "playway_raw = \"\"\"Date,Open,High,Low,Close,Volume\n",
        "2020-03-02,305,324.5,283.5,310,64081\n",
        "2020-03-03,325.5,340.5,320,340.5,55496\n",
        "2020-03-04,324,340.5,315,330,36152\n",
        "2020-03-05,344,344,310,315,35992\n",
        "2020-03-06,306.5,307,291,305,32539\n",
        "2020-03-09,274,291,250,258,79402\n",
        "2020-03-10,278,284.5,256,264,35700\n",
        "2020-03-11,270,270,238.5,245,60445\n",
        "2020-03-12,218,228,196,197,94031\n",
        "2020-03-13,210,229,198.8,211,100412\n",
        "2020-03-16,205,248,197.8,240.5,50659\n",
        "2020-03-17,245,269,232.5,264,99480\n",
        "2020-03-18,264,280,251,270,70136\n",
        "2020-03-19,267,280,267,279.5,30732\n",
        "2020-03-20,297.5,307,280,280.5,43426\n",
        "2020-03-23,274,289,258,285,37098\n",
        "2020-03-24,305,309,296.5,309,31939\n",
        "2020-03-25,313,330,295,304,46724\n",
        "2020-03-26,300,309,295.5,300,27213\n",
        "2020-03-27,302,306.5,290,296,13466\n",
        "2020-03-30,299,300,287,300,10316\n",
        "2020-03-31,302.5,309,302,306.5,15698\"\"\"\n",
        " \n",
        "lines = playway_raw.splitlines()\n",
        "lines = [line.split(',') for line in lines]\n",
        "playway = np.array(lines, dtype=np.str)\n",
        "print(playway)"
      ],
      "execution_count": 174,
      "outputs": [
        {
          "output_type": "stream",
          "text": [
            "[['Date' 'Open' 'High' 'Low' 'Close' 'Volume']\n",
            " ['2020-03-02' '305' '324.5' '283.5' '310' '64081']\n",
            " ['2020-03-03' '325.5' '340.5' '320' '340.5' '55496']\n",
            " ['2020-03-04' '324' '340.5' '315' '330' '36152']\n",
            " ['2020-03-05' '344' '344' '310' '315' '35992']\n",
            " ['2020-03-06' '306.5' '307' '291' '305' '32539']\n",
            " ['2020-03-09' '274' '291' '250' '258' '79402']\n",
            " ['2020-03-10' '278' '284.5' '256' '264' '35700']\n",
            " ['2020-03-11' '270' '270' '238.5' '245' '60445']\n",
            " ['2020-03-12' '218' '228' '196' '197' '94031']\n",
            " ['2020-03-13' '210' '229' '198.8' '211' '100412']\n",
            " ['2020-03-16' '205' '248' '197.8' '240.5' '50659']\n",
            " ['2020-03-17' '245' '269' '232.5' '264' '99480']\n",
            " ['2020-03-18' '264' '280' '251' '270' '70136']\n",
            " ['2020-03-19' '267' '280' '267' '279.5' '30732']\n",
            " ['2020-03-20' '297.5' '307' '280' '280.5' '43426']\n",
            " ['2020-03-23' '274' '289' '258' '285' '37098']\n",
            " ['2020-03-24' '305' '309' '296.5' '309' '31939']\n",
            " ['2020-03-25' '313' '330' '295' '304' '46724']\n",
            " ['2020-03-26' '300' '309' '295.5' '300' '27213']\n",
            " ['2020-03-27' '302' '306.5' '290' '296' '13466']\n",
            " ['2020-03-30' '299' '300' '287' '300' '10316']\n",
            " ['2020-03-31' '302.5' '309' '302' '306.5' '15698']]\n"
          ],
          "name": "stdout"
        }
      ]
    },
    {
      "cell_type": "code",
      "metadata": {
        "colab": {
          "base_uri": "https://localhost:8080/"
        },
        "id": "D6ITv1iPFTlr",
        "outputId": "ecd49146-823a-4647-fea1-30a2f7f04cd4"
      },
      "source": [
        "playway = np.array([['Date', 'Open', 'High', 'Low', 'Close', 'Volume'],\n",
        "       ['2020-03-02', '305', '324.5', '283.5', '310', '64081'],\n",
        "       ['2020-03-03', '325.5', '340.5', '320', '340.5', '55496'],\n",
        "       ['2020-03-04', '324', '340.5', '315', '330', '36152'],\n",
        "       ['2020-03-05', '344', '344', '310', '315', '35992'],\n",
        "       ['2020-03-06', '306.5', '307', '291', '305', '32539'],\n",
        "       ['2020-03-09', '274', '291', '250', '258', '79402'],\n",
        "       ['2020-03-10', '278', '284.5', '256', '264', '35700'],\n",
        "       ['2020-03-11', '270', '270', '238.5', '245', '60445'],\n",
        "       ['2020-03-12', '218', '228', '196', '197', '94031'],\n",
        "       ['2020-03-13', '210', '229', '198.8', '211', '100412'],\n",
        "       ['2020-03-16', '205', '248', '197.8', '240.5', '50659'],\n",
        "       ['2020-03-17', '245', '269', '232.5', '264', '99480'],\n",
        "       ['2020-03-18', '264', '280', '251', '270', '70136'],\n",
        "       ['2020-03-19', '267', '280', '267', '279.5', '30732'],\n",
        "       ['2020-03-20', '297.5', '307', '280', '280.5', '43426'],\n",
        "       ['2020-03-23', '274', '289', '258', '285', '37098'],\n",
        "       ['2020-03-24', '305', '309', '296.5', '309', '31939'],\n",
        "       ['2020-03-25', '313', '330', '295', '304', '46724'],\n",
        "       ['2020-03-26', '300', '309', '295.5', '300', '27213'],\n",
        "       ['2020-03-27', '302', '306.5', '290', '296', '13466'],\n",
        "       ['2020-03-30', '299', '300', '287', '300', '10316'],\n",
        "       ['2020-03-31', '302.5', '309', '302', '306.5', '15698']],\n",
        "      dtype='<U10')\n",
        " \n",
        "playway = np.delete(playway, [0], axis=1)\n",
        "playway_values = playway[1:].astype(float)\n",
        "print(playway_values)"
      ],
      "execution_count": 175,
      "outputs": [
        {
          "output_type": "stream",
          "text": [
            "[[   305.     324.5    283.5    310.   64081. ]\n",
            " [   325.5    340.5    320.     340.5  55496. ]\n",
            " [   324.     340.5    315.     330.   36152. ]\n",
            " [   344.     344.     310.     315.   35992. ]\n",
            " [   306.5    307.     291.     305.   32539. ]\n",
            " [   274.     291.     250.     258.   79402. ]\n",
            " [   278.     284.5    256.     264.   35700. ]\n",
            " [   270.     270.     238.5    245.   60445. ]\n",
            " [   218.     228.     196.     197.   94031. ]\n",
            " [   210.     229.     198.8    211.  100412. ]\n",
            " [   205.     248.     197.8    240.5  50659. ]\n",
            " [   245.     269.     232.5    264.   99480. ]\n",
            " [   264.     280.     251.     270.   70136. ]\n",
            " [   267.     280.     267.     279.5  30732. ]\n",
            " [   297.5    307.     280.     280.5  43426. ]\n",
            " [   274.     289.     258.     285.   37098. ]\n",
            " [   305.     309.     296.5    309.   31939. ]\n",
            " [   313.     330.     295.     304.   46724. ]\n",
            " [   300.     309.     295.5    300.   27213. ]\n",
            " [   302.     306.5    290.     296.   13466. ]\n",
            " [   299.     300.     287.     300.   10316. ]\n",
            " [   302.5    309.     302.     306.5  15698. ]]\n"
          ],
          "name": "stdout"
        }
      ]
    },
    {
      "cell_type": "code",
      "metadata": {
        "colab": {
          "base_uri": "https://localhost:8080/"
        },
        "id": "Rh_774g_Fgud",
        "outputId": "67ed537d-7199-4b54-e7b6-69a4065d6dea"
      },
      "source": [
        "playway_values = np.array([[   305. ,    324.5,    283.5,    310. ,  64081. ],\n",
        "       [   325.5,    340.5,    320. ,    340.5,  55496. ],\n",
        "       [   324. ,    340.5,    315. ,    330. ,  36152. ],\n",
        "       [   344. ,    344. ,    310. ,    315. ,  35992. ],\n",
        "       [   306.5,    307. ,    291. ,    305. ,  32539. ],\n",
        "       [   274. ,    291. ,    250. ,    258. ,  79402. ],\n",
        "       [   278. ,    284.5,    256. ,    264. ,  35700. ],\n",
        "       [   270. ,    270. ,    238.5,    245. ,  60445. ],\n",
        "       [   218. ,    228. ,    196. ,    197. ,  94031. ],\n",
        "       [   210. ,    229. ,    198.8,    211. , 100412. ],\n",
        "       [   205. ,    248. ,    197.8,    240.5,  50659. ],\n",
        "       [   245. ,    269. ,    232.5,    264. ,  99480. ],\n",
        "       [   264. ,    280. ,    251. ,    270. ,  70136. ],\n",
        "       [   267. ,    280. ,    267. ,    279.5,  30732. ],\n",
        "       [   297.5,    307. ,    280. ,    280.5,  43426. ],\n",
        "       [   274. ,    289. ,    258. ,    285. ,  37098. ],\n",
        "       [   305. ,    309. ,    296.5,    309. ,  31939. ],\n",
        "       [   313. ,    330. ,    295. ,    304. ,  46724. ],\n",
        "       [   300. ,    309. ,    295.5,    300. ,  27213. ],\n",
        "       [   302. ,    306.5,    290. ,    296. ,  13466. ],\n",
        "       [   299. ,    300. ,    287. ,    300. ,  10316. ],\n",
        "       [   302.5,    309. ,    302. ,    306.5,  15698. ]])\n",
        " \n",
        "print(np.round(playway_values.mean(axis=0), 2))"
      ],
      "execution_count": 176,
      "outputs": [
        {
          "output_type": "stream",
          "text": [
            "[  283.14   295.25   268.69   282.3  48688.05]\n"
          ],
          "name": "stdout"
        }
      ]
    },
    {
      "cell_type": "code",
      "metadata": {
        "colab": {
          "base_uri": "https://localhost:8080/"
        },
        "id": "u_cxu2e9F5tt",
        "outputId": "5211977e-c9ab-4377-8767-eff0225546da"
      },
      "source": [
        "np.set_printoptions(suppress=True)\n",
        "playway_values = np.array([[   305. ,    324.5,    283.5,    310. ,  64081. ],\n",
        "       [   325.5,    340.5,    320. ,    340.5,  55496. ],\n",
        "       [   324. ,    340.5,    315. ,    330. ,  36152. ],\n",
        "       [   344. ,    344. ,    310. ,    315. ,  35992. ],\n",
        "       [   306.5,    307. ,    291. ,    305. ,  32539. ],\n",
        "       [   274. ,    291. ,    250. ,    258. ,  79402. ],\n",
        "       [   278. ,    284.5,    256. ,    264. ,  35700. ],\n",
        "       [   270. ,    270. ,    238.5,    245. ,  60445. ],\n",
        "       [   218. ,    228. ,    196. ,    197. ,  94031. ],\n",
        "       [   210. ,    229. ,    198.8,    211. , 100412. ],\n",
        "       [   205. ,    248. ,    197.8,    240.5,  50659. ],\n",
        "       [   245. ,    269. ,    232.5,    264. ,  99480. ],\n",
        "       [   264. ,    280. ,    251. ,    270. ,  70136. ],\n",
        "       [   267. ,    280. ,    267. ,    279.5,  30732. ],\n",
        "       [   297.5,    307. ,    280. ,    280.5,  43426. ],\n",
        "       [   274. ,    289. ,    258. ,    285. ,  37098. ],\n",
        "       [   305. ,    309. ,    296.5,    309. ,  31939. ],\n",
        "       [   313. ,    330. ,    295. ,    304. ,  46724. ],\n",
        "       [   300. ,    309. ,    295.5,    300. ,  27213. ],\n",
        "       [   302. ,    306.5,    290. ,    296. ,  13466. ],\n",
        "       [   299. ,    300. ,    287. ,    300. ,  10316. ],\n",
        "       [   302.5,    309. ,    302. ,    306.5,  15698. ]])\n",
        " \n",
        "max_min_diff = playway_values[:, [1]] - playway_values[:, [2]]\n",
        "playway_values = np.concatenate((playway_values, max_min_diff), axis=1)\n",
        "print(playway_values)"
      ],
      "execution_count": 177,
      "outputs": [
        {
          "output_type": "stream",
          "text": [
            "[[   305.     324.5    283.5    310.   64081.      41. ]\n",
            " [   325.5    340.5    320.     340.5  55496.      20.5]\n",
            " [   324.     340.5    315.     330.   36152.      25.5]\n",
            " [   344.     344.     310.     315.   35992.      34. ]\n",
            " [   306.5    307.     291.     305.   32539.      16. ]\n",
            " [   274.     291.     250.     258.   79402.      41. ]\n",
            " [   278.     284.5    256.     264.   35700.      28.5]\n",
            " [   270.     270.     238.5    245.   60445.      31.5]\n",
            " [   218.     228.     196.     197.   94031.      32. ]\n",
            " [   210.     229.     198.8    211.  100412.      30.2]\n",
            " [   205.     248.     197.8    240.5  50659.      50.2]\n",
            " [   245.     269.     232.5    264.   99480.      36.5]\n",
            " [   264.     280.     251.     270.   70136.      29. ]\n",
            " [   267.     280.     267.     279.5  30732.      13. ]\n",
            " [   297.5    307.     280.     280.5  43426.      27. ]\n",
            " [   274.     289.     258.     285.   37098.      31. ]\n",
            " [   305.     309.     296.5    309.   31939.      12.5]\n",
            " [   313.     330.     295.     304.   46724.      35. ]\n",
            " [   300.     309.     295.5    300.   27213.      13.5]\n",
            " [   302.     306.5    290.     296.   13466.      16.5]\n",
            " [   299.     300.     287.     300.   10316.      13. ]\n",
            " [   302.5    309.     302.     306.5  15698.       7. ]]\n"
          ],
          "name": "stdout"
        }
      ]
    },
    {
      "cell_type": "code",
      "metadata": {
        "colab": {
          "base_uri": "https://localhost:8080/"
        },
        "id": "0e4XE_p3GKwF",
        "outputId": "d93a7c43-f317-4bec-ca18-372180fc381c"
      },
      "source": [
        "np.set_printoptions(suppress=True)\n",
        "playway_values = np.array([[   305. ,    324.5,    283.5,    310. ,  64081. ,     41. ],\n",
        "                           [   325.5,    340.5,    320. ,    340.5,  55496. ,     20.5],\n",
        "                           [   324. ,    340.5,    315. ,    330. ,  36152. ,     25.5],\n",
        "                           [   344. ,    344. ,    310. ,    315. ,  35992. ,     34. ],\n",
        "                           [   306.5,    307. ,    291. ,    305. ,  32539. ,     16. ],\n",
        "                           [   274. ,    291. ,    250. ,    258. ,  79402. ,     41. ],\n",
        "                           [   278. ,    284.5,    256. ,    264. ,  35700. ,     28.5],\n",
        "                           [   270. ,    270. ,    238.5,    245. ,  60445. ,     31.5],\n",
        "                           [   218. ,    228. ,    196. ,    197. ,  94031. ,     32. ],\n",
        "                           [   210. ,    229. ,    198.8,    211. , 100412. ,     30.2],\n",
        "                           [   205. ,    248. ,    197.8,    240.5,  50659. ,     50.2],\n",
        "                           [   245. ,    269. ,    232.5,    264. ,  99480. ,     36.5],\n",
        "                           [   264. ,    280. ,    251. ,    270. ,  70136. ,     29. ],\n",
        "                           [   267. ,    280. ,    267. ,    279.5,  30732. ,     13. ],\n",
        "                           [   297.5,    307. ,    280. ,    280.5,  43426. ,     27. ],\n",
        "                           [   274. ,    289. ,    258. ,    285. ,  37098. ,     31. ],\n",
        "                           [   305. ,    309. ,    296.5,    309. ,  31939. ,     12.5],\n",
        "                           [   313. ,    330. ,    295. ,    304. ,  46724. ,     35. ],\n",
        "                           [   300. ,    309. ,    295.5,    300. ,  27213. ,     13.5],\n",
        "                           [   302. ,    306.5,    290. ,    296. ,  13466. ,     16.5],\n",
        "                           [   299. ,    300. ,    287. ,    300. ,  10316. ,     13. ],\n",
        "                           [   302.5,    309. ,    302. ,    306.5,  15698. ,      7. ]])\n",
        " \n",
        "print(playway_values[playway_values[:, 3] > 300.0])"
      ],
      "execution_count": 178,
      "outputs": [
        {
          "output_type": "stream",
          "text": [
            "[[  305.    324.5   283.5   310.  64081.     41. ]\n",
            " [  325.5   340.5   320.    340.5 55496.     20.5]\n",
            " [  324.    340.5   315.    330.  36152.     25.5]\n",
            " [  344.    344.    310.    315.  35992.     34. ]\n",
            " [  306.5   307.    291.    305.  32539.     16. ]\n",
            " [  305.    309.    296.5   309.  31939.     12.5]\n",
            " [  313.    330.    295.    304.  46724.     35. ]\n",
            " [  302.5   309.    302.    306.5 15698.      7. ]]\n"
          ],
          "name": "stdout"
        }
      ]
    },
    {
      "cell_type": "code",
      "metadata": {
        "colab": {
          "base_uri": "https://localhost:8080/"
        },
        "id": "g_n7DkTHHC_5",
        "outputId": "03b34c8a-c002-4544-a28a-eb5f09bd442a"
      },
      "source": [
        "np.set_printoptions(suppress=True)\n",
        "playway_values = np.array([[   305. ,    324.5,    283.5,    310. ,  64081. ,     41. ],\n",
        "                           [   325.5,    340.5,    320. ,    340.5,  55496. ,     20.5],\n",
        "                           [   324. ,    340.5,    315. ,    330. ,  36152. ,     25.5],\n",
        "                           [   344. ,    344. ,    310. ,    315. ,  35992. ,     34. ],\n",
        "                           [   306.5,    307. ,    291. ,    305. ,  32539. ,     16. ],\n",
        "                           [   274. ,    291. ,    250. ,    258. ,  79402. ,     41. ],\n",
        "                           [   278. ,    284.5,    256. ,    264. ,  35700. ,     28.5],\n",
        "                           [   270. ,    270. ,    238.5,    245. ,  60445. ,     31.5],\n",
        "                           [   218. ,    228. ,    196. ,    197. ,  94031. ,     32. ],\n",
        "                           [   210. ,    229. ,    198.8,    211. , 100412. ,     30.2],\n",
        "                           [   205. ,    248. ,    197.8,    240.5,  50659. ,     50.2],\n",
        "                           [   245. ,    269. ,    232.5,    264. ,  99480. ,     36.5],\n",
        "                           [   264. ,    280. ,    251. ,    270. ,  70136. ,     29. ],\n",
        "                           [   267. ,    280. ,    267. ,    279.5,  30732. ,     13. ],\n",
        "                           [   297.5,    307. ,    280. ,    280.5,  43426. ,     27. ],\n",
        "                           [   274. ,    289. ,    258. ,    285. ,  37098. ,     31. ],\n",
        "                           [   305. ,    309. ,    296.5,    309. ,  31939. ,     12.5],\n",
        "                           [   313. ,    330. ,    295. ,    304. ,  46724. ,     35. ],\n",
        "                           [   300. ,    309. ,    295.5,    300. ,  27213. ,     13.5],\n",
        "                           [   302. ,    306.5,    290. ,    296. ,  13466. ,     16.5],\n",
        "                           [   299. ,    300. ,    287. ,    300. ,  10316. ,     13. ],\n",
        "                           [   302.5,    309. ,    302. ,    306.5,  15698. ,      7. ]])\n",
        " \n",
        "print(playway_values[playway_values[:, 4].argsort()[::-1]][:10])"
      ],
      "execution_count": 179,
      "outputs": [
        {
          "output_type": "stream",
          "text": [
            "[[   210.     229.     198.8    211.  100412.      30.2]\n",
            " [   245.     269.     232.5    264.   99480.      36.5]\n",
            " [   218.     228.     196.     197.   94031.      32. ]\n",
            " [   274.     291.     250.     258.   79402.      41. ]\n",
            " [   264.     280.     251.     270.   70136.      29. ]\n",
            " [   305.     324.5    283.5    310.   64081.      41. ]\n",
            " [   270.     270.     238.5    245.   60445.      31.5]\n",
            " [   325.5    340.5    320.     340.5  55496.      20.5]\n",
            " [   205.     248.     197.8    240.5  50659.      50.2]\n",
            " [   313.     330.     295.     304.   46724.      35. ]]\n"
          ],
          "name": "stdout"
        }
      ]
    },
    {
      "cell_type": "code",
      "metadata": {
        "colab": {
          "base_uri": "https://localhost:8080/"
        },
        "id": "ijSBeNZ4Ha5m",
        "outputId": "4440fe71-53f7-449f-db6a-0c846a1e35e3"
      },
      "source": [
        "np.set_printoptions(suppress=True)\n",
        "playway_values = np.array([[   305. ,    324.5,    283.5,    310. ,  64081. ,     41. ],\n",
        "                           [   325.5,    340.5,    320. ,    340.5,  55496. ,     20.5],\n",
        "                           [   324. ,    340.5,    315. ,    330. ,  36152. ,     25.5],\n",
        "                           [   344. ,    344. ,    310. ,    315. ,  35992. ,     34. ],\n",
        "                           [   306.5,    307. ,    291. ,    305. ,  32539. ,     16. ],\n",
        "                           [   274. ,    291. ,    250. ,    258. ,  79402. ,     41. ],\n",
        "                           [   278. ,    284.5,    256. ,    264. ,  35700. ,     28.5],\n",
        "                           [   270. ,    270. ,    238.5,    245. ,  60445. ,     31.5],\n",
        "                           [   218. ,    228. ,    196. ,    197. ,  94031. ,     32. ],\n",
        "                           [   210. ,    229. ,    198.8,    211. , 100412. ,     30.2],\n",
        "                           [   205. ,    248. ,    197.8,    240.5,  50659. ,     50.2],\n",
        "                           [   245. ,    269. ,    232.5,    264. ,  99480. ,     36.5],\n",
        "                           [   264. ,    280. ,    251. ,    270. ,  70136. ,     29. ],\n",
        "                           [   267. ,    280. ,    267. ,    279.5,  30732. ,     13. ],\n",
        "                           [   297.5,    307. ,    280. ,    280.5,  43426. ,     27. ],\n",
        "                           [   274. ,    289. ,    258. ,    285. ,  37098. ,     31. ],\n",
        "                           [   305. ,    309. ,    296.5,    309. ,  31939. ,     12.5],\n",
        "                           [   313. ,    330. ,    295. ,    304. ,  46724. ,     35. ],\n",
        "                           [   300. ,    309. ,    295.5,    300. ,  27213. ,     13.5],\n",
        "                           [   302. ,    306.5,    290. ,    296. ,  13466. ,     16.5],\n",
        "                           [   299. ,    300. ,    287. ,    300. ,  10316. ,     13. ],\n",
        "                           [   302.5,    309. ,    302. ,    306.5,  15698. ,      7. ]])\n",
        " \n",
        "flag = playway_values[:, [0]] < playway_values[:, [3]]\n",
        "flag = flag.astype(int)\n",
        "playway_values = np.concatenate((playway_values, flag), axis=1)\n",
        "print(playway_values)"
      ],
      "execution_count": 180,
      "outputs": [
        {
          "output_type": "stream",
          "text": [
            "[[   305.     324.5    283.5    310.   64081.      41.       1. ]\n",
            " [   325.5    340.5    320.     340.5  55496.      20.5      1. ]\n",
            " [   324.     340.5    315.     330.   36152.      25.5      1. ]\n",
            " [   344.     344.     310.     315.   35992.      34.       0. ]\n",
            " [   306.5    307.     291.     305.   32539.      16.       0. ]\n",
            " [   274.     291.     250.     258.   79402.      41.       0. ]\n",
            " [   278.     284.5    256.     264.   35700.      28.5      0. ]\n",
            " [   270.     270.     238.5    245.   60445.      31.5      0. ]\n",
            " [   218.     228.     196.     197.   94031.      32.       0. ]\n",
            " [   210.     229.     198.8    211.  100412.      30.2      1. ]\n",
            " [   205.     248.     197.8    240.5  50659.      50.2      1. ]\n",
            " [   245.     269.     232.5    264.   99480.      36.5      1. ]\n",
            " [   264.     280.     251.     270.   70136.      29.       1. ]\n",
            " [   267.     280.     267.     279.5  30732.      13.       1. ]\n",
            " [   297.5    307.     280.     280.5  43426.      27.       0. ]\n",
            " [   274.     289.     258.     285.   37098.      31.       1. ]\n",
            " [   305.     309.     296.5    309.   31939.      12.5      1. ]\n",
            " [   313.     330.     295.     304.   46724.      35.       0. ]\n",
            " [   300.     309.     295.5    300.   27213.      13.5      0. ]\n",
            " [   302.     306.5    290.     296.   13466.      16.5      0. ]\n",
            " [   299.     300.     287.     300.   10316.      13.       1. ]\n",
            " [   302.5    309.     302.     306.5  15698.       7.       1. ]]\n"
          ],
          "name": "stdout"
        }
      ]
    },
    {
      "cell_type": "markdown",
      "metadata": {
        "id": "UVnbvmAWL7rP"
      },
      "source": [
        "$ \\begin{cases} 5x-3y=21 \\\\ x-2y=7 \\end{cases} $"
      ]
    },
    {
      "cell_type": "code",
      "metadata": {
        "colab": {
          "base_uri": "https://localhost:8080/"
        },
        "id": "b5LvWSFvHsyL",
        "outputId": "e5d561cd-1f07-4689-ffc3-0cb599ddec26"
      },
      "source": [
        "A = np.array([[5, -3], [1, -2]])\n",
        "B = np.array([[21], [7]])\n",
        "X = np.dot(np.linalg.inv(A), B)\n",
        "x = X[0][0]\n",
        "y = X[1][0]\n",
        "print(f'x = {x:.2f}\\ny = {y:.2f}')"
      ],
      "execution_count": 181,
      "outputs": [
        {
          "output_type": "stream",
          "text": [
            "x = 3.00\n",
            "y = -2.00\n"
          ],
          "name": "stdout"
        }
      ]
    },
    {
      "cell_type": "markdown",
      "metadata": {
        "id": "v67ZMtATJyS_"
      },
      "source": [
        "$ \\begin{cases} x+y+z=1 \\\\ 2x+y+5z=0 \\\\ x-y=z \\end{cases} $\n"
      ]
    },
    {
      "cell_type": "code",
      "metadata": {
        "colab": {
          "base_uri": "https://localhost:8080/"
        },
        "id": "-HFy-H5UIEbw",
        "outputId": "8fec4ae2-82d7-4fea-dc61-aebbc2954528"
      },
      "source": [
        "A = np.array([[1, 1, 1], [2, 1, 5], [1, -1, -1]])\n",
        "B = np.array([[1], [0], [0]])\n",
        "X = np.dot(np.linalg.inv(A), B)\n",
        "x = X[0][0]\n",
        "y = X[1][0]\n",
        "z = X[2][0]\n",
        "print(f'x = {x:.2f}\\ny = {y:.2f}\\nz = {z:.2f}')"
      ],
      "execution_count": 182,
      "outputs": [
        {
          "output_type": "stream",
          "text": [
            "x = 0.50\n",
            "y = 0.88\n",
            "z = -0.38\n"
          ],
          "name": "stdout"
        }
      ]
    },
    {
      "cell_type": "code",
      "metadata": {
        "id": "RweKphKaI5nE"
      },
      "source": [
        ""
      ],
      "execution_count": 182,
      "outputs": []
    }
  ]
}